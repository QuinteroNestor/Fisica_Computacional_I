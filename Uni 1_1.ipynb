{
 "cells": [
  {
   "cell_type": "markdown",
   "id": "749f4693-0b1c-452f-a98c-45e29ad6fa40",
   "metadata": {},
   "source": [
    "# <span style=\"color:blue\"> Introducción a *Python* : Primeros Pasos </span>"
   ]
  },
  {
   "cell_type": "markdown",
   "id": "94564512-b940-4407-872f-d02850b8e111",
   "metadata": {},
   "source": [
    "<hr />\n",
    "\n",
    "# Definición de Variables y Tipos de Datos:\n",
    "\n",
    "## Definición de Variable:\n",
    "\n",
    "- Una variable en Python es un espacio de almacenamiento que tiene un nombre (identificador) y contiene un valor. \n",
    "Funciona como una etiqueta asignada a un valor específico.\n",
    "\n",
    "- Las variables son nombres de valores. En Python, el símbolo `=` asigna el valor de la derecha al nombre de la izquierda.\n",
    "- La variable se crea cuando se le asigna un valor.\n",
    "\n",
    "- Nombres de variables <span style='background :yellow' > **solo**</span>  puede contener letras, dígitos y guión bajo `_` \n",
    "(generalmente se usa para separar palabras en nombres de variables largos) \n",
    "- Nombre de variables <span style='background :yellow' > **NO**</span>  pueden comenzar con un dígito.\n",
    "\n"
   ]
  },
  {
   "cell_type": "code",
   "execution_count": 1,
   "id": "070b072b-f959-4b37-9812-14d728606274",
   "metadata": {},
   "outputs": [],
   "source": [
    "# Ejemplo: Declaración de una variable\n",
    "edad = 25"
   ]
  },
  {
   "cell_type": "markdown",
   "id": "bdc938b0-0ea0-4c6c-803d-992965ce0533",
   "metadata": {},
   "source": [
    "En este caso, edad es la variable y 25 es el valor asignado."
   ]
  },
  {
   "cell_type": "markdown",
   "id": "8eb4c0e4-ff82-44d3-adf0-31c660526b86",
   "metadata": {},
   "source": [
    "## Tipos de Datos en Python:\n",
    "    \n",
    "Python es un lenguaje de programación dinámicamente tipado, lo que significa que el tipo de datos de una variable se infiere automáticamente. Algunos tipos de datos comunes incluyen:\n",
    "\n",
    "- int: Números enteros (ejemplo: `edad = 25`).\n",
    "- float: Números de punto flotante (ejemplo: `altura = 1.75`).\n",
    "- str: Cadenas de texto (ejemplo: `primer_nombre = \"Juan\"`)."
   ]
  },
  {
   "cell_type": "code",
   "execution_count": 2,
   "id": "51611257-f018-4e66-8a97-20b747032b09",
   "metadata": {},
   "outputs": [],
   "source": [
    "# Ejemplos de diferentes tipos de datos\n",
    "entero = 42\n",
    "flotante = 3.14\n",
    "texto = \"Hola, Mundo!\""
   ]
  },
  {
   "cell_type": "markdown",
   "id": "b4d1f12b-f894-4491-ab4f-9641d28fdfce",
   "metadata": {},
   "source": [
    "## Función `print()`\n",
    "\n",
    "- Una de las tareas más simples (y más importantes) que puede pedirle a una computadora es **imprimir** un mensaje.\n",
    "\n",
    "- La función `print()` se utiliza para imprimir o mostrar información en la consola. Es una forma de comunicar resultados o mensajes al usuario.\n",
    "\n",
    "- En Python, le pedimos a una computadora que nos imprima un mensaje escribiendo `print(\"...\")` y colocando el mensaje entre paréntesis y \n",
    "entre comillas. A continuación, le pedimos al computador que imprima el mensaje ¡Hola mundo!."
   ]
  },
  {
   "cell_type": "code",
   "execution_count": 3,
   "id": "88b18636-5e26-488e-b0aa-4152dbf07063",
   "metadata": {},
   "outputs": [
    {
     "name": "stdout",
     "output_type": "stream",
     "text": [
      "Hola Mundo\n"
     ]
    }
   ],
   "source": [
    "# Ejemplo : Hola Mundo en Python\n",
    "\n",
    "print(\"Hola Mundo\")"
   ]
  },
  {
   "cell_type": "markdown",
   "id": "dfed18e7-80da-4cc9-8207-99334cab4ffe",
   "metadata": {},
   "source": [
    "- El código está dentro del cuadro (conocido como celda de código) y la respuesta de la computadora \n",
    "(llamada salida del código) se muestra debajo del cuadro. Como puede ver, la computadora imprimió el \n",
    "mensaje que queríamos.\n",
    "- Para indicarle a Python que una línea es un comentario (y no un código Python), \n",
    "debe escribir un signo de numeral \\# como primer carácter."
   ]
  },
  {
   "cell_type": "code",
   "execution_count": 4,
   "id": "4e7da0e8-22d5-4b5e-9797-66bb917c2176",
   "metadata": {},
   "outputs": [
    {
     "name": "stdout",
     "output_type": "stream",
     "text": [
      "Nombre: Juan\n",
      "Edad: 25 años\n",
      "Altura: 1.75 metros\n"
     ]
    }
   ],
   "source": [
    "# Declaración de variables\n",
    "# Uso de print() para mostrar información\n",
    "\n",
    "nombre = \"Juan\"\n",
    "edad = 25\n",
    "altura = 1.75\n",
    "\n",
    "# Mostrar información\n",
    "print(\"Nombre:\", nombre)\n",
    "print(\"Edad:\", edad, \"años\")\n",
    "print(\"Altura:\", altura, \"metros\")\n"
   ]
  },
  {
   "cell_type": "markdown",
   "id": "0cb68436-cfec-4db7-a8b0-598bf7fa4b38",
   "metadata": {},
   "source": [
    "<div class=\"alert alert-block alert-info\">\n",
    "<b>Ideas clave: </b> Las variables son esenciales para almacenar información en un programa, y los diferentes tipos de datos permiten manejar diversos tipos de información. \n",
    "La función print() es fundamental para mostrar resultados y mensajes útiles durante la ejecución del programa.. \n",
    "                           </div>"
   ]
  },
  {
   "cell_type": "markdown",
   "id": "94379091-df3b-4f0a-800a-32790e487b2e",
   "metadata": {},
   "source": [
    "# Operaciones aritméticas básicas en Python\n",
    "\n",
    "Los operadores aritméticos en `Python` se utilizan para realizar operaciones matemáticas. Aquí hay algunos ejemplos:\n",
    "| Operación    | Símbolo  |\n",
    "|--------------|----------|\n",
    "| Suma         |  +       |\n",
    "| Resta        |  -       |\n",
    "| Multiplicación | *    |\n",
    "| División   | /    |\n",
    "| Resto de la división (módulo)   | %   |\n",
    "| Potenciación   | **    |"
   ]
  },
  {
   "cell_type": "code",
   "execution_count": 5,
   "id": "b722deda-fb62-46db-b0f5-6637ccd27ffd",
   "metadata": {},
   "outputs": [
    {
     "name": "stdout",
     "output_type": "stream",
     "text": [
      "La suma es: 8\n",
      "La resta es: 2\n",
      "La multiplicaión es: 15\n",
      "El módulo es: 2\n",
      "La potenciación es: 125\n"
     ]
    }
   ],
   "source": [
    "# Ejemplo: Variables y Operaciones Básicas\n",
    "x = 5\n",
    "y = 3\n",
    "\n",
    "# Suma\n",
    "suma = x + y\n",
    "\n",
    "# Resta\n",
    "resta = x - y\n",
    "\n",
    "# Multiplicación\n",
    "multiplicacion = x * y\n",
    "\n",
    "# División\n",
    "division = x / y\n",
    "\n",
    "# Resto de la división (módulo)\n",
    "modulo = x % y\n",
    "\n",
    "# Potenciación\n",
    "potenciacion = x ** y\n",
    "\n",
    "print(\"La suma es:\", suma)\n",
    "print(\"La resta es:\", resta)\n",
    "print(\"La multiplicaión es:\", multiplicacion)\n",
    "print(\"El módulo es:\", modulo)\n",
    "print(\"La potenciación es:\", potenciacion)"
   ]
  },
  {
   "cell_type": "code",
   "execution_count": 6,
   "id": "62e5b893-2c27-453c-ba6c-37b059f36616",
   "metadata": {},
   "outputs": [
    {
     "name": "stdout",
     "output_type": "stream",
     "text": [
      "El nombre es: Albert\n",
      "El resultado es: 52.5\n"
     ]
    }
   ],
   "source": [
    "# Ejemplo 5: Declaración de Variables y Tipos de Datos\n",
    "\n",
    "nombre = 'Albert'\n",
    "edad = 30\n",
    "altura = 1.75\n",
    "\n",
    "resultado = edad * altura\n",
    "\n",
    "print(\"El nombre es:\", nombre)\n",
    "print(\"El resultado es:\", resultado)"
   ]
  },
  {
   "cell_type": "code",
   "execution_count": 7,
   "id": "bf22c333-191c-4efb-8bf2-fc4515198c58",
   "metadata": {},
   "outputs": [
    {
     "name": "stdout",
     "output_type": "stream",
     "text": [
      "Área del rectángulo es: 72\n",
      "Área del rectángulo es: 72\n"
     ]
    }
   ],
   "source": [
    "# Ejemplo: Calcular el área de un rectángulo\n",
    "\n",
    "base = 18\n",
    "altura = 4\n",
    "area_rectangulo = base * altura\n",
    "\n",
    "print(\"Área del rectángulo es:\", area_rectangulo) \n",
    "\n",
    "# forma alternativa para imprimir usando f-string\n",
    "print(f\"Área del rectángulo es: {area_rectangulo}\")"
   ]
  },
  {
   "cell_type": "markdown",
   "id": "b37779c4-fd39-4810-9f71-9ed40602d6f0",
   "metadata": {},
   "source": [
    "- La segunda manera de imprimir utiliza una f-string, que es una característica de formato de cadenas introducida en \n",
    "Python 3.6 y versiones posteriores. \n",
    "- La letra `f` antes de las comillas indica que la cadena es una f-string, lo que significa que puede contener \n",
    "expresiones entre llaves {} que serán evaluadas y formateadas dentro de la cadena.\n",
    "    \n",
    "- Dentro de la cadena, `{area_rectangulo}` es una expresión entre llaves que se evalúa como el valor actual de la \n",
    "variable `area_rectangulo`. Durante la ejecución, Python sustituirá esta expresión con el valor de `area_rectangulo`.\n",
    "- Ambas formas de imprimir son válidas, pero las f-strings suelen ser preferidas por su sintaxis más legible y concisa."
   ]
  },
  {
   "cell_type": "markdown",
   "id": "7df19fbc-e883-4680-9c04-a83476ae1a98",
   "metadata": {},
   "source": [
    "### Importación en Python: Uso de `import` y `math`\n",
    "\n",
    "- En Python, la palabra clave `import` se utiliza para incorporar módulos externos o bibliotecas que contienen funciones y variables \n",
    "predefinidas. Uno de estos módulos comunes es `math`. En Python, `math` es un módulo incorporado que proporciona \n",
    "funciones matemáticas más avanzadas que las operaciones básicas.\n",
    "\n",
    "- La línea `import math` en un script significa que estás importando el módulo `math` en tu programa."
   ]
  },
  {
   "cell_type": "code",
   "execution_count": null,
   "id": "64af47c2-d494-4258-a8da-35ce8fdf99db",
   "metadata": {},
   "outputs": [],
   "source": [
    "# Ejemplo: Script para calcular el perímetro de un círculo\n",
    "\n"
   ]
  },
  {
   "cell_type": "code",
   "execution_count": 8,
   "id": "16626b33-6ce0-4cbc-b7fb-55c6cbcf2d84",
   "metadata": {},
   "outputs": [
    {
     "name": "stdout",
     "output_type": "stream",
     "text": [
      "La raíz cuadrada de 25 es: 5.0\n"
     ]
    }
   ],
   "source": [
    "# Script para calcular la raíz cuadrada de un número\n",
    "import math\n",
    "\n",
    "numero = 25\n",
    "raiz_cuadrada = math.sqrt(numero)\n",
    "\n",
    "print(f\"La raíz cuadrada de {numero} es: {raiz_cuadrada}\")"
   ]
  },
  {
   "cell_type": "code",
   "execution_count": 10,
   "id": "4e319afa-3473-4de9-a5fe-65f6fcd79c2e",
   "metadata": {},
   "outputs": [
    {
     "name": "stdout",
     "output_type": "stream",
     "text": [
      "El seno del ángulo 45 es: 0.7071067811865475\n"
     ]
    }
   ],
   "source": [
    "# Script para calcular el seno de un ángulo\n",
    "\n",
    "angulo = 45\n",
    "seno_45_grados = math.sin(math.radians(angulo))\n",
    "print(f'El seno del ángulo {angulo} es: {seno_45_grados}')"
   ]
  },
  {
   "cell_type": "code",
   "execution_count": 8,
   "id": "44775d8c-367a-4722-bcfa-9bce82606b31",
   "metadata": {},
   "outputs": [
    {
     "name": "stdin",
     "output_type": "stream",
     "text": [
      "Ingresa el radio del círculo:  45\n"
     ]
    },
    {
     "name": "stdout",
     "output_type": "stream",
     "text": [
      "Área del círculo es: 6361.725123519331\n"
     ]
    }
   ],
   "source": [
    "# Script simple: Calculadora de área de un círculo\n",
    "import math\n",
    "\n",
    "def area_circulo(radio):\n",
    "    return math.pi * radio**2\n",
    "\n",
    "# Solicitar radio al usuario\n",
    "radio_usuario = float(input(\"Ingresa el radio del círculo: \"))\n",
    "area_resultante = area_circulo(radio_usuario)\n",
    "print(f'Área del círculo es: {area_resultante}')\n",
    "#print(\"Área del círculo:\", area_resultante)"
   ]
  },
  {
   "cell_type": "markdown",
   "id": "c728433c-8f13-43a2-b62e-232480156113",
   "metadata": {},
   "source": [
    "# Insertando variables: Uso de `input`\n",
    "\n",
    "- La función `input()` en Python se utiliza para obtener la entrada del usuario desde la consola. Cuando se ejecuta `input()`, \n",
    "el programa se detiene y espera a que el usuario ingrese una línea de texto y presione **\"Enter\"**. \n",
    "- El texto ingresado por el usuario se devuelve como una cadena y puede ser almacenado en una variable para su \n",
    "posterior procesamiento."
   ]
  },
  {
   "cell_type": "markdown",
   "id": "a94a9659-f5b6-4fb3-95c6-08261c15288c",
   "metadata": {},
   "source": [
    "## Variable de cadena de texto: string (str)"
   ]
  },
  {
   "cell_type": "code",
   "execution_count": 9,
   "id": "d51440db-7bff-4dad-9fbc-4a27cf804f41",
   "metadata": {},
   "outputs": [
    {
     "name": "stdin",
     "output_type": "stream",
     "text": [
      "Cuál es tu nombre:  Nestor\n"
     ]
    },
    {
     "name": "stdout",
     "output_type": "stream",
     "text": [
      "Hola, Nestor\n"
     ]
    }
   ],
   "source": [
    "# Ejemplo: Solicitamos el nombre de una persona utilizando variable \"string (str)\"\n",
    "\n",
    "person = str(input(\"Cuál es tu nombre: \"))\n",
    "print(\"Hola,\", person)"
   ]
  },
  {
   "cell_type": "markdown",
   "id": "fa058781-4d7b-4d5f-ad4e-269a4896c62d",
   "metadata": {},
   "source": [
    "Una forma alternativa es a tráves del uso de `format` para insertar valores en una cadena. "
   ]
  },
  {
   "cell_type": "code",
   "execution_count": 10,
   "id": "34e2c9b2-5368-4886-88bd-d4fcf6c059f4",
   "metadata": {},
   "outputs": [
    {
     "name": "stdin",
     "output_type": "stream",
     "text": [
      "Cuál es tu nombre:  Nestor\n"
     ]
    },
    {
     "name": "stdout",
     "output_type": "stream",
     "text": [
      "Hola, Nestor\n"
     ]
    }
   ],
   "source": [
    "# Ejemplo: Solicitamos el nombre de una persona utilizando variable \"string (str)\"\n",
    "person = str(input(\"Cuál es tu nombre: \"))\n",
    "\n",
    "# Forma alternativa\n",
    "mensaje = \"Hola, {}\".format(person)\n",
    "print(mensaje)"
   ]
  },
  {
   "cell_type": "markdown",
   "id": "898ed37d-4ac8-462b-a240-24c4f26f9be1",
   "metadata": {},
   "source": [
    "- La cadena `\"Hola, {}\"` es una cadena de formato que contiene un marcador de posición {} donde se insertará el valor de la variable, \n",
    "en este caso, la variable **person**.\n",
    "\n",
    "- `format` se llama en la cadena y toma un argumento (person en este caso). El valor de person se inserta en el marcador de posición.\n",
    "\n",
    "- Finalmente, el resultado formateado se asigna a la variable mensaje y se imprime."
   ]
  },
  {
   "cell_type": "markdown",
   "id": "7f5a74a7-c9f3-4d49-a525-e8c9e9b41867",
   "metadata": {},
   "source": [
    "## Variables de número flotante: float"
   ]
  },
  {
   "cell_type": "code",
   "execution_count": 11,
   "id": "3833a8bb-d04d-4ec2-80b6-ca9e4d29e780",
   "metadata": {},
   "outputs": [
    {
     "name": "stdin",
     "output_type": "stream",
     "text": [
      "Ingresa la base (m):  4.5\n",
      "Ingresa la altura (m):  5\n"
     ]
    },
    {
     "name": "stdout",
     "output_type": "stream",
     "text": [
      "Área del rectángulo (m^2): 22.5\n"
     ]
    }
   ],
   "source": [
    "# Ejercicio: Calcular el área de un rectángulo solicitando los valores de base y altura\n",
    "\n",
    "# Se solicitan los valores de base y altura\n",
    "base = float(input(\"Ingresa la base (m): \"))  # en metros\n",
    "altura = float(input(\"Ingresa la altura (m): \")) # en metros\n",
    "\n",
    "# Se obtiene el área del rectangulo\n",
    "area_rectangulo = base * altura # en m^2\n",
    "\n",
    "print(\"Área del rectángulo (m^2):\", area_rectangulo)"
   ]
  },
  {
   "cell_type": "markdown",
   "id": "5c2e9082-d660-48e5-b3b4-e7de2fe53c65",
   "metadata": {},
   "source": [
    "## Creación de una función con `def` y el uso de `return`\n",
    "\n",
    "- En Python, la palabra clave `def` se utiliza para definir funciones. \n",
    "- La declaración `return` en Python se utiliza para especificar el valor que una función debería devolver. Cuando una función se llama y ejecuta, \n",
    "el resultado de la evaluación de la expresión después de `return` se devuelve como el resultado de la función."
   ]
  },
  {
   "cell_type": "code",
   "execution_count": 15,
   "id": "b3cbac75-6dc1-419f-b95c-8fa54f91dcc6",
   "metadata": {},
   "outputs": [
    {
     "name": "stdin",
     "output_type": "stream",
     "text": [
      "Ingrese el valor de un número:  4\n"
     ]
    },
    {
     "name": "stdout",
     "output_type": "stream",
     "text": [
      "El cuadrado del número ingresado es: 16.0\n"
     ]
    }
   ],
   "source": [
    "# Definimos función cuadrado\n",
    "def cuadrado(numero):\n",
    "    return numero ** 2\n",
    "\n",
    "# Se solicita el valor del número\n",
    "numero = float(input(\"Ingrese el valor de un número: \"))\n",
    "resultado = cuadrado(numero)\n",
    "print(\"El cuadrado del número ingresado es:\", resultado)"
   ]
  },
  {
   "cell_type": "code",
   "execution_count": 11,
   "id": "979b7417-594e-4051-8115-5c6c8420d42b",
   "metadata": {},
   "outputs": [
    {
     "name": "stdin",
     "output_type": "stream",
     "text": [
      "Ingresa la base (m):  4\n",
      "Ingresa la altura (m):  3\n"
     ]
    },
    {
     "name": "stdout",
     "output_type": "stream",
     "text": [
      "Área del rectángulo (m^2): 12.0\n"
     ]
    }
   ],
   "source": [
    "# Ejercicio: Calcular el área de un rectángulo solicitando los valores de base y altura\n",
    "# Definimos la función area_rectangulo\n",
    "def area_rectangulo(base,altura) :\n",
    "    return base * altura\n",
    "\n",
    "# Se solicitan los valores de base y altura\n",
    "base = float(input(\"Ingresa la base (m): \"))\n",
    "altura = float(input(\"Ingresa la altura (m): \"))\n",
    "area_rectangulo = area_rectangulo(base,altura)\n",
    "\n",
    "print(\"Área del rectángulo (m^2):\", area_rectangulo)"
   ]
  }
 ],
 "metadata": {
  "kernelspec": {
   "display_name": "Python 3 (ipykernel)",
   "language": "python",
   "name": "python3"
  },
  "language_info": {
   "codemirror_mode": {
    "name": "ipython",
    "version": 3
   },
   "file_extension": ".py",
   "mimetype": "text/x-python",
   "name": "python",
   "nbconvert_exporter": "python",
   "pygments_lexer": "ipython3",
   "version": "3.10.12"
  }
 },
 "nbformat": 4,
 "nbformat_minor": 5
}
