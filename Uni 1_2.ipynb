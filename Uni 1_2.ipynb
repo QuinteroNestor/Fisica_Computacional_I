{
 "cells": [
  {
   "cell_type": "markdown",
   "id": "749f4693-0b1c-452f-a98c-45e29ad6fa40",
   "metadata": {},
   "source": [
    "# <span style=\"color:blue\"> Introducción a *Python* : Primeros Pasos </span>"
   ]
  },
  {
   "cell_type": "markdown",
   "id": "0b6f7a61-4356-4d88-be92-32c0b47c27ac",
   "metadata": {},
   "source": [
    "# Estructuras de Control en Python\n",
    "---"
   ]
  },
  {
   "cell_type": "markdown",
   "id": "e6c03c8b-a95d-41b3-9e50-1d3036b197de",
   "metadata": {},
   "source": [
    "## Condicionales y Operaciones Lógicas\n",
    "\n",
    "- En *Python*, los **condicionales** (también llamadas **sentencias condicionales**) \n",
    "permiten controlar el flujo de ejecución del programa según ciertas condiciones. \n",
    "\n",
    "## Condicionales `if`, `elif`, `else`\n",
    "\n",
    "La estructura básica de un condicional en Python es:\n",
    "\n",
    "```python\n",
    "if condicion:\n",
    "    # Código a ejecutar si la condición es verdadera\n",
    "elif otra_condicion:\n",
    "    # Código a ejecutar si la primera condición es falsa y esta es verdadera\n",
    "else:\n",
    "    # Código a ejecutar si ninguna de las condiciones anteriores es verdadera\n",
    "```\n",
    "\n",
    "---\n",
    "\n",
    "## Operadores de Comparación\n",
    "\n",
    "En Python, los **operadores lógicos** son herramientas esenciales para controlar el flujo de ejecución de un programa.\n",
    "\n",
    "| Operador | Descripción              |\n",
    "|----------|--------------------------|\n",
    "| ==       | Igual a                  |\n",
    "| !=       | Diferente de             |\n",
    "| <        | Menor que                |\n",
    "| >        | Mayor que                |\n",
    "| <=       | Menor o igual que        |\n",
    "| >=       | Mayor o igual que        |\n",
    "\n",
    "---"
   ]
  },
  {
   "cell_type": "markdown",
   "id": "3b8745e0-1c82-4735-a96d-7bdcd2b6edd4",
   "metadata": {},
   "source": [
    "### Igualdad (==)"
   ]
  },
  {
   "cell_type": "code",
   "execution_count": null,
   "id": "b50b0844-accb-4663-9600-7fd6df7415e9",
   "metadata": {},
   "outputs": [],
   "source": [
    "# Verifica si dos valores son iguales\n",
    "a = 5\n",
    "b = 5\n",
    "\n",
    "# Utilizamos condicionales y el operador \"igual a ==\" \n",
    "if a == b:\n",
    "    print(\"a es igual a b\")\n",
    "else:\n",
    "    print(\"a no es igual a b\")\n"
   ]
  },
  {
   "cell_type": "markdown",
   "id": "fe12e27e-8b46-420c-8ae2-e9c330b5d016",
   "metadata": {},
   "source": [
    "### Mayor que (>)"
   ]
  },
  {
   "cell_type": "code",
   "execution_count": null,
   "id": "20b752a0-2a41-4ace-b9ef-0547ad7d36ec",
   "metadata": {},
   "outputs": [],
   "source": [
    "# Ejemplo: Uso de condicionales\n",
    "\n",
    "temperatura = float(input('Ingrese el valor de la temperatura: '))\n",
    "\n",
    "# Utilizamos condicionales y el operador \"mayor que >\"\n",
    "if temperatura > 30:\n",
    "    print(\"Hace calor\")\n",
    "elif temperatura > 20:\n",
    "    print(\"Agradable\")\n",
    "else:\n",
    "    print(\"Hace frío\")"
   ]
  },
  {
   "cell_type": "markdown",
   "id": "ab99e1db-fab1-40cf-8010-51bc270e017b",
   "metadata": {},
   "source": [
    "### Mayor o igual que (>=)"
   ]
  },
  {
   "cell_type": "code",
   "execution_count": null,
   "id": "ac585364-1d32-46ec-95e2-9e418db73b65",
   "metadata": {},
   "outputs": [],
   "source": [
    "# Uso de Operaciones lógicas\n",
    "\n",
    "edad = float(input('Ingrese su edad: '))\n",
    "altura = float(input('Ingrese su altura (en metros): '))\n",
    "\n",
    "# Utilizamos el operador \"mayor o igual que >=\" \n",
    "if edad >= 18:\n",
    "    print(\"Es mayor de edad.\")\n",
    "else:\n",
    "    print(\"Es menor de edad.\")\n",
    "\n",
    "if altura > 1.80:\n",
    "    print(\"Es una persona alta.\")\n",
    "else:\n",
    "    print(\"No es una persona alta.\")\n"
   ]
  },
  {
   "cell_type": "code",
   "execution_count": null,
   "id": "82aabf26-81ce-4a7a-9200-d8135527a36f",
   "metadata": {},
   "outputs": [],
   "source": [
    "# Ejemplo: Evaluación de Rango de Números\n",
    "\n",
    "numero = float(input(\"Ingrese un número: \"))\n",
    "\n",
    "if 10 <= numero <= 20:\n",
    "    print(\"El número está en el rango de 10 a 20.\")\n",
    "else:\n",
    "    print(\"El número está fuera del rango especificado.\")"
   ]
  },
  {
   "cell_type": "markdown",
   "id": "edc274eb-f879-49a8-a188-d8999143decd",
   "metadata": {},
   "source": [
    "## Operaciones Lógicas en Python\n",
    "\n",
    "En Python, las operaciones lógicas son fundamentales para evaluar y comparar expresiones booleanas. Las principales operaciones lógicas son:\n",
    "\n",
    "- `and`: Devuelve True si ambas expresiones son verdaderas.\n",
    "- `or`: Devuelve True si al menos una de las expresiones es verdadera.\n",
    "- `not`: Devuelve True si la expresión es falsa y viceversa.\n",
    "\n",
    "A continuación, se presentan ejemplos comentados para cada una de estas operaciones:"
   ]
  },
  {
   "cell_type": "markdown",
   "id": "95684db8-bf85-4cf7-afe7-7f214e22c2f5",
   "metadata": {},
   "source": [
    "### Operador `and`"
   ]
  },
  {
   "cell_type": "code",
   "execution_count": null,
   "id": "df77fa7d-58ad-44f9-aba3-82d621db43e9",
   "metadata": {},
   "outputs": [],
   "source": [
    "# Ejemplo de operador 'and'\n",
    "edad = 25\n",
    "tiene_licencia = True\n",
    "\n",
    "# Ambas condiciones deben ser verdaderas para que el resultado sea True\n",
    "puede_conducir = edad >= 18 and tiene_licencia\n",
    "print(f\"¿Puede conducir? {puede_conducir}\")"
   ]
  },
  {
   "cell_type": "markdown",
   "id": "70e77a98-41a5-4fb3-883a-6806d74c292f",
   "metadata": {},
   "source": [
    "### Operador `or`"
   ]
  },
  {
   "cell_type": "code",
   "execution_count": null,
   "id": "05882201-1bdc-4a24-90d9-c66c1f75469e",
   "metadata": {},
   "outputs": [],
   "source": [
    "# Ejemplo de operador 'or'\n",
    "es_estudiante = True\n",
    "es_empleado = False\n",
    "\n",
    "# Al menos una de las condiciones debe ser verdadera para que el resultado sea True\n",
    "es_trabajador = es_estudiante or es_empleado\n",
    "print(f\"¿Es trabajador? {es_trabajador}\")\n"
   ]
  },
  {
   "cell_type": "markdown",
   "id": "15ab8107-6b43-4415-9973-dfaa0f15ab35",
   "metadata": {},
   "source": [
    "### Operador `not`"
   ]
  },
  {
   "cell_type": "code",
   "execution_count": null,
   "id": "d070c807-7182-46ea-b5a5-686f4c2a0e85",
   "metadata": {},
   "outputs": [],
   "source": [
    "# Ejemplo de operador 'not'\n",
    "llueve = False\n",
    "\n",
    "# La expresión es invertida, True se convierte en False y viceversa\n",
    "no_llueve = not llueve\n",
    "print(f\"¿No llueve? {no_llueve}\")\n"
   ]
  },
  {
   "cell_type": "markdown",
   "id": "4701ad51-ea95-46b5-a3f0-2d3199acae23",
   "metadata": {},
   "source": [
    "### Operadores lógicos para combinar condiciones"
   ]
  },
  {
   "cell_type": "code",
   "execution_count": null,
   "id": "a290c3d9-fefc-4845-8f15-abe922f5fd60",
   "metadata": {},
   "outputs": [],
   "source": [
    "# Utilizando operadores lógicos para combinar condiciones\n",
    "temperatura = 25\n",
    "hora_del_dia = \"tarde\"\n",
    "\n",
    "if temperatura > 20 and hora_del_dia == \"tarde\":\n",
    "    print(\"Hace calor por la tarde\")\n",
    "else:\n",
    "    print(\"No hace calor por la tarde o la temperatura es baja\")\n",
    "\n",
    "# También se pueden usar \"or\" para evaluar si al menos una condición es verdadera\n",
    "# y \"not\" para negar una condición\n"
   ]
  },
  {
   "cell_type": "code",
   "execution_count": null,
   "id": "5c4bea5d-35c3-4945-9752-8284c832e4e5",
   "metadata": {},
   "outputs": [],
   "source": [
    "temperatura = 25\n",
    "lluvia = False\n",
    "\n",
    "if temperatura > 20 and not lluvia:\n",
    "    print(\"Es un día agradable para salir.\")\n",
    "else:\n",
    "    print(\"Mejor quedarse en casa.\")\n"
   ]
  },
  {
   "cell_type": "code",
   "execution_count": 2,
   "id": "a1a71497-53b4-4852-8119-a6a479d566de",
   "metadata": {},
   "outputs": [
    {
     "name": "stdin",
     "output_type": "stream",
     "text": [
      "Ingrese su edad:  25\n",
      "¿Tiene permiso de conducir? (s/n):  s\n"
     ]
    },
    {
     "name": "stdout",
     "output_type": "stream",
     "text": [
      "Puede solicitar una licencia de conducir.\n"
     ]
    }
   ],
   "source": [
    "# Ejemplo \n",
    "edad = int(input(\"Ingrese su edad: \"))\n",
    "permiso_conducir = input(\"¿Tiene permiso de conducir? (s/n): \").lower()\n",
    "# el uso .lower() después de la función input es para convertir la entrada del usuario a minúsculas.\n",
    "\n",
    "if edad >= 18 and permiso_conducir == \"s\":\n",
    "    print(\"Puede solicitar una licencia de conducir.\")\n",
    "else:\n",
    "    print(\"No cumple con los requisitos para obtener una licencia de conducir.\")"
   ]
  },
  {
   "cell_type": "markdown",
   "id": "7adc751d-a6b6-4ac8-9bbc-2a31bd91fb7f",
   "metadata": {},
   "source": [
    "#### `if` dentro de otro `if`"
   ]
  },
  {
   "cell_type": "code",
   "execution_count": null,
   "id": "eeae5f61-f564-4186-b1e1-41a911b5f988",
   "metadata": {},
   "outputs": [],
   "source": [
    "# Ejemplo: script para verificar el nivel de colesterol en adultos\n",
    "\n",
    "# Definir variables\n",
    "edad = 45\n",
    "colesterol = 200\n",
    "\n",
    "# Verificar el estado de la persona según su edad\n",
    "if edad >= 18:  # Si la persona es mayor o igual de 18 años\n",
    "    print(\"La persona es un adulto.\")\n",
    "    \n",
    "    # Verificar el nivel de colesterol en adultos\n",
    "    if colesterol > 240:  # Si el colesterol es mayor de 240 mg/dL\n",
    "        print(\"El nivel de colesterol es alto.\")\n",
    "    elif 200 <= colesterol <= 240:  # Si el colesterol está entre 200 y 240 mg/dL\n",
    "        print(\"El nivel de colesterol es borderline alto.\")\n",
    "    else:  # Si el colesterol es menor o igual de 200 mg/dL\n",
    "        print(\"El nivel de colesterol es normal.\")\n",
    "else:  # Si la persona es menor de 18 años\n",
    "    print(\"La persona es menor de edad.\")\n"
   ]
  },
  {
   "cell_type": "markdown",
   "id": "9dcc6995-b9cf-4f6a-981f-f1d757b481f5",
   "metadata": {},
   "source": [
    "<div class=\"alert alert-block alert-info\">\n",
    "<b>Ideas clave: </b> . \n",
    "\n",
    "- Los condicionales permiten controlar el flujo de ejecución del programa según ciertas condiciones.\n",
    "- Los operadores lógicos son herramientas esenciales para controlar el flujo de ejecución de un programa.\n",
    "- Las operaciones lógicas son fundamentales para evaluar y comparar.\n",
    "</div>"
   ]
  },
  {
   "cell_type": "code",
   "execution_count": null,
   "id": "4d739070-924b-479b-92de-d0db103f61d0",
   "metadata": {},
   "outputs": [],
   "source": []
  }
 ],
 "metadata": {
  "kernelspec": {
   "display_name": "Python 3 (ipykernel)",
   "language": "python",
   "name": "python3"
  },
  "language_info": {
   "codemirror_mode": {
    "name": "ipython",
    "version": 3
   },
   "file_extension": ".py",
   "mimetype": "text/x-python",
   "name": "python",
   "nbconvert_exporter": "python",
   "pygments_lexer": "ipython3",
   "version": "3.10.12"
  }
 },
 "nbformat": 4,
 "nbformat_minor": 5
}
