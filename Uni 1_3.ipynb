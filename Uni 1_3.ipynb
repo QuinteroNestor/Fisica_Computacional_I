{
 "cells": [
  {
   "cell_type": "markdown",
   "id": "e8de3568-c7ea-4fe4-93e5-0068b14641b2",
   "metadata": {},
   "source": [
    "# <span style=\"color:blue\"> Unidad 1: Introducción a *Python* </span>"
   ]
  },
  {
   "cell_type": "markdown",
   "id": "026163a1-3057-48ac-bf84-80b347f2b596",
   "metadata": {},
   "source": [
    "## Estructuras de Control en Python: Bucles `for` y `while`\n",
    "---\n",
    "\n",
    "Los **bucles** son **estructuras de control** que nos permiten ejecutar un bloque de código repetidamente, \n",
    "hasta que se cumpla una condición específica. En Python, tenemos dos tipos principales de bucles: `for` y `while`.\n",
    "\n",
    "Los **bucles** pueden utilizarse para resolver una variedad de problemas simples, como contar, sumar números, \n",
    "imprimir patrones, etc. \n",
    "\n",
    "---"
   ]
  },
  {
   "cell_type": "markdown",
   "id": "8c254389-a32a-47cf-ada3-63eeac9436b6",
   "metadata": {},
   "source": [
    "### Bucle `for`\n",
    "\n",
    "---"
   ]
  },
  {
   "cell_type": "markdown",
   "id": "d5a77940-01b7-42a5-b0db-36a6b9242efd",
   "metadata": {},
   "source": [
    "El bucle `for` se utiliza para iterar sobre una secuencia de elementos, como una lista, una tupla, un diccionario, o cualquier objeto iterable en Python. Su sintaxis general es la siguiente:\n",
    "\n",
    "```python\n",
    "for elemento in secuencia:\n",
    "    # Bloque de código a ejecutar en cada iteración\n",
    "```\n",
    "\n",
    "**Características:**\n",
    "\n",
    "- Itera sobre una secuencia de elementos.\n",
    "- Conocemos de antemano el número de iteraciones.\n",
    "- Puede utilizarse con cualquier objeto iterable en Python.\n",
    "- Es ideal para recorrer colecciones de datos y realizar operaciones sobre cada elemento.\n",
    "\n",
    "**Importancia dentro de la programación:**\n",
    "\n",
    "- Los bucles `for` son esenciales para trabajar con colecciones de datos, como listas, tuplas y diccionarios.\n",
    "- Permiten automatizar tareas repetitivas, como procesar elementos de una lista o realizar cálculos sobre conjuntos de datos.\n",
    "- Son una herramienta fundamental en la programación estructurada y funcional, \n",
    "ya que nos permiten escribir código más eficiente y legible."
   ]
  },
  {
   "cell_type": "markdown",
   "id": "5e55b949-98cf-40ab-9cb7-aa4c650606f4",
   "metadata": {},
   "source": [
    "### Bucle `while`\n",
    "\n",
    "---"
   ]
  },
  {
   "cell_type": "markdown",
   "id": "2a791cbf-07f9-4464-bc15-54c2788e7f4b",
   "metadata": {},
   "source": [
    "El bucle `while` se utiliza para ejecutar un bloque de código repetidamente mientras se cumpla una condición específica. \n",
    "Su sintaxis general es la siguiente:\n",
    "\n",
    "```python\n",
    "while condicion:\n",
    "    # Bloque de código a ejecutar mientras se cumpla la condición\n",
    "```\n",
    "\n",
    "**Características:**\n",
    "\n",
    "- Repite el bloque de código mientras se cumpla una condición específica.\n",
    "- No necesariamente conocemos de antemano el número de iteraciones.\n",
    "- La condición se evalúa antes de cada iteración, por lo que es posible que el bloque de código no se ejecute en absoluto si la condición inicialmente no se cumple.\n",
    "- Es útil cuando no sabemos cuántas veces necesitamos iterar, \n",
    "pero queremos seguir ejecutando un bloque de código hasta que se cumpla una condición específica.\n",
    "\n",
    "**Importancia dentro de la programación:**\n",
    "\n",
    "- Los bucles `while` son útiles para implementar lógica de control más flexible, \n",
    "especialmente cuando no conocemos de antemano el número exacto de iteraciones necesarias.\n",
    "- Permiten implementar algoritmos complejos y resolver problemas que no se pueden abordar fácilmente con bucles `for`.\n",
    "- Son una herramienta poderosa para la implementación de bucles infinitos controlados por condiciones dinámicas."
   ]
  },
  {
   "cell_type": "code",
   "execution_count": null,
   "id": "94c59756-3fd3-46ba-9152-d18d4d3fddb0",
   "metadata": {},
   "outputs": [],
   "source": [
    "#### <span style=\"color:red\"> En resumen: </span>\n",
    "\n",
    "---\n",
    "- Tanto los bucles `for` como `while` son componentes fundamentales de la programación en Python. \n",
    "- Ambos nos permiten controlar el flujo de ejecución de un programa y \n",
    "realizar tareas repetitivas de manera eficiente y flexible. \n",
    "- La elección entre usar `for` o `while` dependerá de la naturaleza del problema que estemos resolviendo y \n",
    "de nuestras necesidades específicas de implementación.\n",
    "\n",
    "---"
   ]
  },
  {
   "cell_type": "markdown",
   "id": "41af2c2b-6370-4842-ae5b-66c001a81cf2",
   "metadata": {},
   "source": [
    "### <span style=\"color:orange\"> Función `range()` </span> \n",
    "\n",
    "\n",
    "La función `range()` en Python se utiliza para generar una secuencia de números enteros en un rango específico. \n",
    "Su sintaxis general es:\n",
    "    \n",
    "*range(start, stop, step)*\n",
    "\n",
    "- **start** es el valor inicial de la secuencia (inclusive).\n",
    "- **stop** es el valor final de la secuencia (exclusivo).\n",
    "- **step** es el tamaño del paso entre los números en la secuencia (opcional, por defecto es 1).\n",
    "\n",
    "La función `range()` devuelve un objeto de tipo range, que es una secuencia inmutable de números enteros. \n",
    "\n",
    "La función `range()` es comúnmente utilizada en bucles `for` para iterar sobre una secuencia de números. Por ejemplo:"
   ]
  },
  {
   "cell_type": "markdown",
   "id": "25bf012c-f1ee-47c3-a3e3-fb60ae2756b9",
   "metadata": {},
   "source": [
    "### <span style=\"color:purple\"> Ejemplo: </span> Uso del bucle `for` y de `range()`"
   ]
  },
  {
   "cell_type": "code",
   "execution_count": 4,
   "id": "c192e644-5ebd-4df8-89d2-c7c745a203d7",
   "metadata": {},
   "outputs": [
    {
     "name": "stdout",
     "output_type": "stream",
     "text": [
      "0\n",
      "1\n",
      "2\n",
      "3\n",
      "4\n"
     ]
    }
   ],
   "source": [
    "# Ejemplo sencillo uso de for y range\n",
    "\n",
    "for i in range(0,5): \n",
    "    # generará una secuencia de números enteros desde 0 hasta 4 (sin incluir el 5), \n",
    "    # con un paso predeterminado de 1.\n",
    "    \n",
    "    print(i)\n",
    "    # Este bucle imprimirá los números del 0 al 4 en la consola."
   ]
  },
  {
   "cell_type": "code",
   "execution_count": 8,
   "id": "16423ab5-ba28-4893-a324-2f9b09917fa2",
   "metadata": {},
   "outputs": [
    {
     "name": "stdout",
     "output_type": "stream",
     "text": [
      "1\n",
      "3\n",
      "5\n",
      "7\n",
      "9\n"
     ]
    }
   ],
   "source": [
    "# Ejemplo sencillo uso de for y range\n",
    "\n",
    "for k in range(1,10,2): \n",
    "    # generará una secuencia de números enteros desde 1 hasta 9 (sin incluir el 10),\n",
    "    # con un paso predeterminado de 2.\n",
    "    print(k)\n",
    "    # Este bucle imprimirá los números del 1 al 9 en pasos de 2."
   ]
  },
  {
   "cell_type": "markdown",
   "id": "5b4bd17e-9f9a-4667-a45f-1eddb61f96c2",
   "metadata": {},
   "source": [
    "### <span style=\"color:purple\"> Ejemplo: </span> Contador con Bucle `while`\n",
    "\n",
    "Queremos crear un programa que cuente hasta un número especificado por el usuario utilizando un bucle `while`.\n",
    "\n",
    "- El programa solicitará al usuario ingresar un número entero positivo.\n",
    "- Utilizando un bucle `while`, el programa imprimirá todos los números enteros positivos desde 1 \n",
    "hasta el número ingresado por el usuario.\n",
    "- Una vez que se haya alcanzado el número ingresado, el bucle se detendrá y el programa terminará."
   ]
  },
  {
   "cell_type": "code",
   "execution_count": 17,
   "id": "59dc5e3d-26f2-4f3c-8de4-9112ffeaaaad",
   "metadata": {},
   "outputs": [
    {
     "name": "stdout",
     "output_type": "stream",
     "text": [
      "Ingrese un número entero positivo: 3\n",
      "Contando hasta 3:\n",
      "1\n",
      "2\n",
      "3\n"
     ]
    }
   ],
   "source": [
    "# Solicitar al usuario ingresar un número\n",
    "numero = int(input(\"Ingrese un número entero positivo: \"))\n",
    "\n",
    "# Imprimir números utilizando un bucle while\n",
    "print(f'Contando hasta {numero}:')\n",
    "\n",
    "# Inicializar el contador\n",
    "contador = 1\n",
    "\n",
    "while contador <= numero:\n",
    "    print(contador)\n",
    "    contador += 1 #Incremento el valor de la variable \"contador\" en 1"
   ]
  },
  {
   "cell_type": "markdown",
   "id": "ad8e21ac-9c33-496b-94a3-631e4ac3e892",
   "metadata": {},
   "source": [
    "Variante para hacer el conteo descendente"
   ]
  },
  {
   "cell_type": "code",
   "execution_count": 20,
   "id": "35e828ec",
   "metadata": {},
   "outputs": [
    {
     "name": "stdout",
     "output_type": "stream",
     "text": [
      "Ingrese un número entero positivo: 5\n",
      "Contando hasta 5:\n",
      "5\n",
      "4\n",
      "3\n",
      "2\n",
      "1\n"
     ]
    }
   ],
   "source": [
    "# Solicitar al usuario ingresar un número\n",
    "numero = int(input(\"Ingrese un número entero positivo: \"))\n",
    "\n",
    "# Imprimir números utilizando un bucle while\n",
    "print(f'Contando hasta {numero}:')\n",
    "\n",
    "# Inicializar el contador\n",
    "contador = numero\n",
    "\n",
    "while contador >= 1:\n",
    "    print(contador)\n",
    "    contador -= 1 #Incremento el valor de la variable \"contador\" en 1"
   ]
  },
  {
   "cell_type": "markdown",
   "id": "8bb0234b-51a0-4e93-9e2e-17ae570d1431",
   "metadata": {},
   "source": [
    "<span style=\"color:red\"> NOTA: </span> Los símbolos `+=` y `-=` son operadores de asignación combinada en Python. Son atajos para realizar operaciones de adición y sustracción y luego asignar el resultado \n",
    "a la misma variable."
   ]
  },
  {
   "cell_type": "markdown",
   "id": "df68a7a8-06c7-46f1-8732-f658292f8b0e",
   "metadata": {},
   "source": [
    "### <span style=\"color:purple\"> Ejemplo: </span> Suma de números pares con Bucle `for`\n",
    "\n",
    "Queremos crear un programa que sume todos los números pares hasta un número especificado por el usuario utilizando un bucle `for`.\n",
    "\n",
    "- El programa solicitará al usuario ingresar un número entero positivo.\n",
    "- Utilizando un bucle `for`, el programa sumará todos los números pares desde 2 hasta el número ingresado por el usuario.\n",
    "- Una vez que se haya alcanzado el número ingresado, el programa imprimirá la suma total."
   ]
  },
  {
   "cell_type": "code",
   "execution_count": 23,
   "id": "61e75bd0-871b-4229-865b-1deb52611363",
   "metadata": {},
   "outputs": [
    {
     "name": "stdout",
     "output_type": "stream",
     "text": [
      "Ingrese un número entero positivo: 8\n",
      "La suma de los números pares hasta 8 es: 20\n"
     ]
    }
   ],
   "source": [
    "# Solicitar al usuario ingresar un número\n",
    "numero = int(input(\"Ingrese un número entero positivo: \"))\n",
    "\n",
    "# Inicializar la suma\n",
    "suma_pares = 0\n",
    "\n",
    "# Sumar números pares utilizando un bucle for\n",
    "for i in range(2, numero + 1, 2):\n",
    "    suma_pares += i \n",
    "    # Incremento el valor de la variable \"suma_pares\" en \"i\" unidades en cada iteración \n",
    "    # del bucle.\n",
    "\n",
    "# Imprimir la suma total\n",
    "print(\"La suma de los números pares hasta\", numero, \"es:\", suma_pares)"
   ]
  },
  {
   "cell_type": "markdown",
   "id": "e84ca05f-442c-4c51-abc7-f7f2f97b9737",
   "metadata": {},
   "source": [
    "### <span style=\"color:red\"> Ejemplo: </span>  Calcular el factorial de un número"
   ]
  },
  {
   "cell_type": "code",
   "execution_count": 28,
   "id": "6eb2ffcb-10e4-4f4c-9701-2e66d0bc7097",
   "metadata": {},
   "outputs": [
    {
     "name": "stdout",
     "output_type": "stream",
     "text": [
      "Ingrese un número entero positivo: 5\n",
      "El factorial de 5 es: 120\n"
     ]
    }
   ],
   "source": [
    "# Calcular el factorial de un número\n",
    "n = int(input(\"Ingrese un número entero positivo: \"))\n",
    "\n",
    "factorial = 1 # Inicializar factorial\n",
    "for i in range(1, n+1):\n",
    "    factorial *= i\n",
    "# El símbolo *= es un operador de asignación y multiplicación combinados en Python\n",
    "\n",
    "print(f\"El factorial de {n} es: {factorial}\")"
   ]
  },
  {
   "cell_type": "markdown",
   "id": "78ca735d-9e58-474f-b874-a1cf91088ca1",
   "metadata": {},
   "source": [
    "<span style=\"color:red\"> NOTA: </span> En el ejemplo anterior el símbolo `*=` es un operador de asignación y multiplicación combinados en Python. \n",
    "Cuando se utiliza `*=` con una variable y un valor, significa que el valor actual de la variable se \n",
    "multiplica por el valor especificado, y el resultado se asigna nuevamente a la variable."
   ]
  },
  {
   "cell_type": "markdown",
   "id": "627d0293-d6e4-459e-81e4-ff3aba968858",
   "metadata": {},
   "source": [
    "### <span style=\"color:purple\"> Ejemplo: </span> Tabla de Multiplicar con bucle `for` \n",
    "\n",
    "Queremos crear un programa que muestre la tabla de multiplicar de un número especificado por el usuario utilizando un bucle `for`.\n",
    "\n",
    "- El programa solicitará al usuario ingresar un número entero positivo.\n",
    "- Utilizando un bucle `for`, el programa calculará e imprimirá la tabla de multiplicar de ese número, \n",
    "desde 1 hasta 10."
   ]
  },
  {
   "cell_type": "code",
   "execution_count": 29,
   "id": "a636a18e-b8a6-4325-9092-5411484fd2a8",
   "metadata": {},
   "outputs": [
    {
     "name": "stdout",
     "output_type": "stream",
     "text": [
      "Ingrese un número entero positivo para mostrar su tabla de multiplicar: 7\n",
      "Tabla de multiplicar del 7 :\n",
      "7 x 1 = 7\n",
      "7 x 2 = 14\n",
      "7 x 3 = 21\n",
      "7 x 4 = 28\n",
      "7 x 5 = 35\n",
      "7 x 6 = 42\n",
      "7 x 7 = 49\n",
      "7 x 8 = 56\n",
      "7 x 9 = 63\n",
      "7 x 10 = 70\n"
     ]
    }
   ],
   "source": [
    "# Solicitar al usuario ingresar un número entero positivo\n",
    "numero = int(input(\"Ingrese un número entero positivo para mostrar su tabla de multiplicar: \"))\n",
    "\n",
    "# Imprimir la tabla de multiplicar utilizando un bucle for\n",
    "print(f\"Tabla de multiplicar del {numero} :\")\n",
    "\n",
    "for i in range(1, 11): # por defecto el paso predeterminado es 1\n",
    "    resultado = numero * i\n",
    "    print(f\"{numero} x {i} = {resultado}\")\n"
   ]
  },
  {
   "cell_type": "markdown",
   "id": "4f8dfb92-ece7-49a4-b373-df3d6fc38ddd",
   "metadata": {},
   "source": [
    "#### <span style=\"color:purple\">  Ejemplo: </span> Desplazamiento de un Objeto en Movimiento Uniformemente Acelerado (MUA) con Bucle `for`"
   ]
  },
  {
   "cell_type": "code",
   "execution_count": 32,
   "id": "b2d146b7-6e49-43a2-969b-5a0773f69cb2",
   "metadata": {},
   "outputs": [
    {
     "name": "stdout",
     "output_type": "stream",
     "text": [
      "Ingrese la velocidad inicial (m/s): 5\n",
      "Ingrese la aceleración (m/s^2): 3\n",
      "Ingrese el tiempo total de movimiento (segundos): 5\n",
      "Desplazamiento del objeto en intervalos de tiempo regulares:\n",
      "Desplazamiento en el segundo 1: 6.5 metros\n",
      "Desplazamiento en el segundo 2: 16.0 metros\n",
      "Desplazamiento en el segundo 3: 28.5 metros\n",
      "Desplazamiento en el segundo 4: 44.0 metros\n",
      "Desplazamiento en el segundo 5: 62.5 metros\n"
     ]
    }
   ],
   "source": [
    "# Solicitar al usuario ingresar la velocidad inicial, la aceleración y el tiempo total\n",
    "v0 = float(input(\"Ingrese la velocidad inicial (m/s): \"))\n",
    "a = float(input(\"Ingrese la aceleración (m/s^2): \"))\n",
    "tiempo_total = float(input(\"Ingrese el tiempo total de movimiento (segundos): \"))\n",
    "\n",
    "# Calcular y mostrar el desplazamiento en intervalos de tiempo regulares utilizando un bucle for\n",
    "print(\"Desplazamiento del objeto en intervalos de tiempo regulares:\")\n",
    "for t in range(1, int(tiempo_total) + 1):\n",
    "    desplazamiento = (v0 * t) + ((1/2) * a * t**2)\n",
    "    print(f\"Desplazamiento en el segundo {t}: {desplazamiento} metros\")\n"
   ]
  },
  {
   "cell_type": "markdown",
   "id": "9e44c021-343f-4166-8f2a-d8357708b611",
   "metadata": {},
   "source": [
    "#### <span style=\"color:purple\">  Ejemplo: </span> Calcular la suma de los primeros 10 números naturales"
   ]
  },
  {
   "cell_type": "code",
   "execution_count": null,
   "id": "d6dd83fe",
   "metadata": {},
   "outputs": [],
   "source": [
    "# Utilizaremos tanto un bucle for como un bucle while para calcular la suma.\n",
    "\n",
    "# Utilizando un bucle for\n",
    "# Con el bucle for, iteraremos sobre una secuencia de números del 1 al 10 y acumularemos la suma.\n",
    "\n",
    "suma_for = 0 # Inicializar suma_for\n",
    "for i in range(1, 11):  # Iterar sobre los números del 1 al 10\n",
    "    suma_for += i\n",
    "\n",
    "# Utilizando un bucle while\n",
    "# Con el bucle while, inicializaremos un contador en 1 y continuaremos agregando números a la suma\n",
    "# hasta que hayamos alcanzado 10 iteraciones.\n",
    "\n",
    "suma_while = 0 # Inicializar suma_while\n",
    "contador = 1 # Inicializar contador\n",
    "while contador <= 10:  # Continuar hasta que hayamos realizado 10 iteraciones\n",
    "    suma_while += contador\n",
    "    contador += 1\n",
    "\n",
    "# Imprimir resultados\n",
    "print(f\"Suma utilizando bucle for: {suma_for}\")\n",
    "print(f\"Suma utilizando while for: {suma_while}\")\n"
   ]
  },
  {
   "cell_type": "markdown",
   "id": "b8e677c0-4e2a-45d5-affd-4c5e41a84ad9",
   "metadata": {},
   "source": [
    "#### <span style=\"color:purple\">  Ejemplo: </span> Imprimir los números del 1 al 10 que sean pares (uso de `if` dentro de un bucle)"
   ]
  },
  {
   "cell_type": "code",
   "execution_count": null,
   "id": "b3f511a3-6eea-4093-a0cf-2819366ef63b",
   "metadata": {},
   "outputs": [],
   "source": [
    "# Utilizaremos un bucle for para iterar sobre los números del 1 al 10.\n",
    "# Dentro del bucle, utilizaremos una declaración if para verificar si el número es par.\n",
    "\n",
    "# Utilizando un bucle for con condicional if\n",
    "print(\"Utilizando bucle for con condicional if:\")\n",
    "for i in range(1, 11):  # Iterar sobre los números del 1 al 10\n",
    "    if i % 2 == 0:  # Verificar si el número es par\n",
    "        print(i)\n",
    "\n",
    "# Utilizando un bucle while con condicional if\n",
    "print(\"\\nUtilizando bucle while con condicional if:\")\n",
    "numero = 1\n",
    "while numero <= 10:  # Continuar hasta que alcancemos el número 10\n",
    "    if numero % 2 == 0:  # Verificar si el número es par\n",
    "        print(numero)\n",
    "    numero += 1\n"
   ]
  },
  {
   "cell_type": "markdown",
   "id": "6ff350f8-32f2-4df2-8da1-7de1993587e1",
   "metadata": {},
   "source": [
    "### Roturas de bucles: `break`"
   ]
  },
  {
   "cell_type": "markdown",
   "id": "a11e01de-fdfa-4ff8-8257-17055c460689",
   "metadata": {},
   "source": [
    "#### <span style=\"color:purple\">  Ejemplo: </span> Encontrar el primer número divisible por 5 en el rango del 1 al 20"
   ]
  },
  {
   "cell_type": "code",
   "execution_count": null,
   "id": "07846fbc-0bfb-4e49-b60d-156576bdbc07",
   "metadata": {},
   "outputs": [],
   "source": [
    "# Utilizaremos un bucle for para iterar sobre los números del 1 al 20.\n",
    "# Dentro del bucle, utilizaremos una declaración if para verificar si un número es divisible por 5.\n",
    "# Cuando se encuentre el primer número divisible por 5, usaremos la declaración break para salir del bucle.\n",
    "\n",
    "# Utilizando un bucle for con break\n",
    "print(\"Utilizando bucle for con break:\")\n",
    "for i in range(1, 21):  # Iterar sobre los números del 1 al 20\n",
    "    if i % 5 == 0:  # Verificar si el número es divisible por 5\n",
    "        print(f\"El primer número divisible por 5 es: {i}\")\n",
    "        break\n",
    "\n",
    "# Utilizando un bucle while con break\n",
    "print(\"\\nUtilizando bucle while con break:\")\n",
    "numero = 1\n",
    "while numero <= 20:  # Continuar hasta que alcancemos el número 20\n",
    "    if numero % 5 == 0:  # Verificar si el número es divisible por 5\n",
    "        print(f\"El primer número divisible por 5 es: {numero}\")\n",
    "        break\n",
    "    numero += 1\n"
   ]
  },
  {
   "cell_type": "code",
   "execution_count": null,
   "id": "2fba7090-2dff-43b4-99dd-3dd97caf58e0",
   "metadata": {},
   "outputs": [],
   "source": []
  }
 ],
 "metadata": {
  "kernelspec": {
   "display_name": "Python 3 (ipykernel)",
   "language": "python",
   "name": "python3"
  },
  "language_info": {
   "codemirror_mode": {
    "name": "ipython",
    "version": 3
   },
   "file_extension": ".py",
   "mimetype": "text/x-python",
   "name": "python",
   "nbconvert_exporter": "python",
   "pygments_lexer": "ipython3",
   "version": "3.10.12"
  }
 },
 "nbformat": 4,
 "nbformat_minor": 5
}
