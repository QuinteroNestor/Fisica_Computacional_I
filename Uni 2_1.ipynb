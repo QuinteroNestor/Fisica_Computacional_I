{
 "cells": [
  {
   "cell_type": "markdown",
   "id": "a25142dc-fa8f-4b3b-a5cf-2a1b75aba48d",
   "metadata": {},
   "source": [
    "# <span style=\"color:blue\"> Unidad 2: Manipulación de datos </span>"
   ]
  },
  {
   "cell_type": "markdown",
   "id": "b89657b2-b1e2-46de-bba9-c4e588aeab54",
   "metadata": {},
   "source": [
    "# Introducción a Listas, Tuplas y Diccionarios en Python\n",
    "\n",
    "En Python, las listas, tuplas y diccionarios son estructuras de datos fundamentales que nos permiten almacenar y manipular colecciones de elementos. Cada una tiene sus propias características y aplicaciones específicas en física y en la programación en general.\n",
    "\n",
    "## Listas\n",
    "---\n",
    "\n",
    "* Una **lista** es una colección ordenada y mutable de elementos. Python sigue una notación especial para representar las listas. Los valores de una lista deben\n",
    "estar encerrados entre corchetes `[]` y separados por comas.\n",
    "* En una lista podemos, por ejemplo, registrar las notas de los estudiantes de una clase, la evolución de la\n",
    "temperatura hora a hora, los coeficientes de un polinomio, la relación de nombres de personas asistentes a una reunión, etc.\n",
    "* Ejemplo:\n",
    "\n",
    "```python\n",
    "# Definición de una lista\n",
    "mi_lista = [1, 2, 3, 4, 5]\n",
    "\n",
    "```\n",
    "### Métodos de Manipulación de Datos\n",
    "Algunos métodos útiles para manipular listas incluyen `len()`, `append()`, `remove()`, `pop()`, `insert()`, `extend()`, \n",
    "entre otros.\n",
    "\n",
    "### Aplicaciones Prácticas en Física\n",
    "En física, las listas son útiles para almacenar datos experimentales, vectores, y series temporales, entre otras cosas.\n",
    "\n",
    "## Tuplas\n",
    "---\n",
    "\n",
    "* Una tupla es una colección ordenada e inmutable de elementos. Se define utilizando paréntesis `()` y separados por comas. \n",
    "* A diferencia de las listas, las tuplas no pueden ser modificadas una vez creadas.\n",
    "* Ejemplo:\n",
    "\n",
    "```python\n",
    "# Definición de una tupla\n",
    "mi_tupla = (1, 2, 3, 4, 5)\n",
    "\n",
    "```\n",
    "\n",
    "### Métodos de Manipulación de Datos\n",
    "Dado que las tuplas son inmutables, tienen menos métodos de manipulación de datos que las listas. \n",
    "Sin embargo, se pueden realizar operaciones como `index()` y `count()`.\n",
    "\n",
    "### Aplicaciones Prácticas en Física\n",
    "Las tuplas son útiles para representar datos que no deben ser modificados, como constantes físicas o \n",
    "coordenadas de puntos en el espacio.\n",
    "\n",
    "\n",
    "## Diccionarios\n",
    "---\n",
    "\n",
    "* Un diccionario es una colección no ordenada y mutable de pares clave-valor. Se define utilizando llaves `{}`.\n",
    "* Ejemplo:\n",
    "\n",
    "```python\n",
    "# Definición de un diccionario\n",
    "mi_diccionario = {'nombre': 'Juan', 'edad': 30, 'profesion': 'físico'}\n",
    "\n",
    "```\n",
    "\n",
    "### Métodos de Manipulación de Datos\n",
    "Algunos métodos útiles para manipular diccionarios incluyen `keys()`, `values()`, `items()`, `get()`, entre otros.\n",
    "\n",
    "### Aplicaciones Prácticas en Física\n",
    "Los diccionarios son útiles para almacenar datos relacionados, como parámetros experimentales y sus valores correspondientes, \n",
    "o para representar propiedades de partículas y sus características.\n",
    "\n",
    "## Similitudes:\n",
    "---\n",
    "\n",
    "* **Colecciones de datos**: Tanto las listas, las tuplas como los diccionarios son tipos de datos en Python utilizados para almacenar colecciones de elementos.\n",
    "\n",
    "* **Acceso a elementos**: Puedes acceder a los elementos de estas estructuras de datos utilizando índices (para listas y tuplas) o claves (para diccionarios).\n",
    "\n",
    "* **Iteración**: Puedes recorrer todos los elementos de estas estructuras utilizando bucles `for`.\n",
    "\n",
    "## Diferencias:\n",
    "---\n",
    "    \n",
    "**Mutabilidad**:\n",
    "\n",
    "* Listas: Son mutables, lo que significa que puedes modificar, agregar o eliminar elementos después de haber creado la lista.\n",
    "* Tuplas: Son inmutables, lo que significa que no puedes modificar, agregar o eliminar elementos una vez que la tupla \n",
    "ha sido creada.\n",
    "* Diccionarios: Son mutables, puedes modificar, agregar o eliminar pares clave-valor después de haber creado el diccionario.\n"
   ]
  },
  {
   "cell_type": "markdown",
   "id": "2143b47c-9a0d-4a8c-b093-74fb963de5e4",
   "metadata": {},
   "source": [
    "## <span style=\"color:red\"> Uso y manipulación de listas </span>\n",
    "---"
   ]
  },
  {
   "cell_type": "markdown",
   "id": "0ccaa552-8f41-42ac-bb18-5059dbe979f6",
   "metadata": {},
   "source": [
    "### Creación y acceso a listas "
   ]
  },
  {
   "cell_type": "code",
   "execution_count": 27,
   "id": "b0e3c27d-5e99-40b4-91d4-efa295421bf4",
   "metadata": {},
   "outputs": [
    {
     "name": "stdout",
     "output_type": "stream",
     "text": [
      "La lista números contiene: [1, 2, 3, 4, 5]\n",
      "La lista de presiones contiene: [0.273, 0.275, 0.277, 0.275, 0.276, 0.274]\n",
      "La lista de marcas de carros contiene: ['Ford', 'Toyota', 'BMW', 'KIA'] \n",
      "\n",
      "<class 'list'>\n",
      "<class 'list'>\n",
      "<class 'list'>\n",
      "<class 'int'>\n",
      "<class 'float'>\n"
     ]
    }
   ],
   "source": [
    "# Creemos diferentes listas\n",
    "numeros = [1, 2, 3, 4, 5]\n",
    "presiones = [0.273, 0.275, 0.277, 0.275, 0.276, 0.274]\n",
    "marcas_carros = [\"Ford\",\"Toyota\",\"BMW\",\"KIA\"]\n",
    "A = 2\n",
    "B = 2.378\n",
    "\n",
    "# Imprimir las listas\n",
    "print(f'La lista números contiene: {numeros}')\n",
    "print(f'La lista de presiones contiene: {presiones}')\n",
    "print(f'La lista de marcas de carros contiene: {marcas_carros} \\n')\n",
    "\n",
    "print(type(numeros))\n",
    "print(type(presiones))\n",
    "print(type(marcas_carros))\n",
    "print(type(A))\n",
    "print(type(B))"
   ]
  },
  {
   "cell_type": "markdown",
   "id": "2b4d7f18-a35e-4907-ad4d-a4904b035093",
   "metadata": {},
   "source": [
    "### Longitud de una lista: `len()`\n",
    "Podemos contar el número de entradas en cualquier lista con `len()`, que es la abreviatura de \"length = longitud\". \n",
    "Sólo necesita proporcionar el nombre de la lista entre paréntesis."
   ]
  },
  {
   "cell_type": "code",
   "execution_count": 6,
   "id": "c5ec3a5d-3429-44b8-bbae-3ad84fcbb486",
   "metadata": {},
   "outputs": [
    {
     "name": "stdout",
     "output_type": "stream",
     "text": [
      "La lista números contiene 5 elementos\n",
      "La lista de presiones contiene: 6 elementos\n",
      "La lista de marcas de carros contiene: 4 elementos\n"
     ]
    }
   ],
   "source": [
    "print(f'La lista números contiene {len(numeros)} elementos')\n",
    "print(f'La lista de presiones contiene: {len(presiones)} elementos')\n",
    "print(f'La lista de marcas de carros contiene: {len(marcas_carros)} elementos')"
   ]
  },
  {
   "cell_type": "markdown",
   "id": "88a7456b-1049-4271-956b-e33313fbf6d1",
   "metadata": {},
   "source": [
    "### Indexación\n",
    "* Podemos hacer referencia a cualquier elemento de la lista según su posición en la lista (primero, segundo, tercero, etc.). \n",
    "Este número se llama **índice**.\n",
    "* Los índices están numerados desde 0 hasta la longitud de la lista. \n",
    "* Utilice el índice de la posición entre corchetes para colocar el elemento en esa posición."
   ]
  },
  {
   "cell_type": "code",
   "execution_count": 10,
   "id": "7183efdd-e2e6-40b6-b456-8422382fb328",
   "metadata": {},
   "outputs": [
    {
     "name": "stdout",
     "output_type": "stream",
     "text": [
      "Primer elemento de la lista numeros: 1\n",
      "Segundo elemento de la lista presiones: 0.275\n",
      "Tercer elemento de la lista marca de carros: BMW\n",
      "\n",
      "Último elemento de la lista numeros: 5\n",
      "Último elemento de la lista numeros: 5\n",
      "Último elemento de la lista presiones: 0.274\n"
     ]
    }
   ],
   "source": [
    "# Acceder a diferentes elementos de una lista\n",
    "\n",
    "print(f\"Primer elemento de la lista numeros: {numeros[0]}\")\n",
    "print(f\"Segundo elemento de la lista presiones: {presiones[1]}\")\n",
    "print(f\"Tercer elemento de la lista marca de carros: {marcas_carros[2]}\")\n",
    "\n",
    "# Acceder al último elemento de la lista\n",
    "\n",
    "# La lista \"numeros\" tiene 5 entradas, por lo que nos referimos a la entrada final con 4\n",
    "print(f\"\\nÚltimo elemento de la lista numeros: {numeros[4]}\")\n",
    "print(f\"Último elemento de la lista numeros: {numeros[-1]}\") # forma alternativa si no conozco su len.\n",
    "\n",
    "# La lista \"presiones\" tiene 6 entradas, por lo que nos referimos a la entrada final con 5\n",
    "print(f\"Último elemento de la lista presiones: {presiones[5]}\")"
   ]
  },
  {
   "cell_type": "code",
   "execution_count": 11,
   "id": "1d87c25c-eb44-40ed-823e-707407849ff9",
   "metadata": {},
   "outputs": [
    {
     "name": "stdout",
     "output_type": "stream",
     "text": [
      "Los elementos de la lista números son:\n",
      "1\n",
      "2\n",
      "3\n",
      "4\n",
      "5\n",
      "\n",
      "Los elementos de la lista marcas de carros son:\n",
      "\n",
      "Ford\n",
      "Toyota\n",
      "BMW\n",
      "KIA\n"
     ]
    }
   ],
   "source": [
    "#En este ejemplo, el bucle for recorre cada elemento de la lista \"numeros\" \n",
    "# y lo asigna a la variable \"k\". Luego, dentro del bucle, imprimimos el valor de numero, \n",
    "#que representa cada elemento de la lista en cada iteración del bucle.\n",
    "\n",
    "# Iterar sobre los elementos de la lista e imprimirlos\n",
    "print(\"Los elementos de la lista números son:\")\n",
    "for k in numeros:\n",
    "    print(k)\n",
    "\n",
    "print(\"\\nLos elementos de la lista marcas de carros son:\\n\")\n",
    "for k in marcas_carros:\n",
    "    print(k)"
   ]
  },
  {
   "cell_type": "markdown",
   "id": "e045be0b",
   "metadata": {},
   "source": [
    "### Slicing (rebanar)\n",
    "* También puede extraer un segmento de una lista (por ejemplo, las tres primeras entradas o las dos últimas entradas). \n",
    "Esto se llama **Slicing (rebanar)**.\n",
    "* Tomamos una porción usando `[start:stop]`, donde **start** se reemplaza con el índice \n",
    "del primer elemento que queremos y **stop** (exclusivo) se reemplaza con el índice del elemento justo después del último elemento que queremos."
   ]
  },
  {
   "cell_type": "code",
   "execution_count": 12,
   "id": "4c3f45da-d699-4884-8827-31b3e73a7fad",
   "metadata": {},
   "outputs": [
    {
     "name": "stdout",
     "output_type": "stream",
     "text": [
      "[0.273, 0.275, 0.277, 0.275, 0.276, 0.274]\n",
      "[0.275, 0.277, 0.275]\n",
      "[0.273, 0.275]\n",
      "\n",
      "['Ford', 'Toyota', 'BMW', 'KIA']\n",
      "['Ford', 'Toyota', 'BMW']\n",
      "['BMW', 'KIA']\n"
     ]
    }
   ],
   "source": [
    "# Ejemplo:\n",
    "print(presiones)\n",
    "print(presiones[1:4]) #Imprime entradas [1] a [3]\n",
    "print(f\"{presiones[0:2]}\\n\") #Imprime entradas [0] a [1]\n",
    "\n",
    "print(marcas_carros)\n",
    "print(marcas_carros[:3]) # Imprime las primeras tres entradas\n",
    "print(marcas_carros[-2:]) # Imprime las últimas dos entradas"
   ]
  },
  {
   "cell_type": "markdown",
   "id": "bc4f091d-ac86-410c-bec0-4d31d0207249",
   "metadata": {},
   "source": [
    "### Modificación de elementos de una lista"
   ]
  },
  {
   "cell_type": "code",
   "execution_count": 1,
   "id": "eebc5447-84a0-4f4c-b013-b049f1cf60be",
   "metadata": {},
   "outputs": [
    {
     "name": "stdout",
     "output_type": "stream",
     "text": [
      "Lista original: [2, 3, 5, 7, 11]\n",
      "Lista después de la modificación: [13, 3, 5, 7, 11]\n"
     ]
    }
   ],
   "source": [
    "# Ejemplo:\n",
    "\n",
    "primos = [2,3,5,7,11] # Lista de números primos\n",
    "print(f\"Lista original: {primos}\")\n",
    "primos[0] = 13 # Modifico el índice [0]\n",
    "print(f\"Lista después de la modificación: {primos}\")"
   ]
  },
  {
   "cell_type": "markdown",
   "id": "2ab17d41-a4fc-4a26-878e-4c2dcc47a861",
   "metadata": {},
   "source": [
    "### Eliminando elementos `.remove()`\n",
    "Elimine un elemento de una lista con `.remove()` y coloque el elemento que desea eliminar entre paréntesis."
   ]
  },
  {
   "cell_type": "code",
   "execution_count": 2,
   "id": "c48e805d-a248-4adc-8e26-452ae9459880",
   "metadata": {},
   "outputs": [
    {
     "name": "stdout",
     "output_type": "stream",
     "text": [
      "Lista original: [2, 4, 6, 8, 10]\n",
      "Lista después de eliminar un elemento: [2, 4, 6, 10]\n"
     ]
    }
   ],
   "source": [
    "# Ejemplo:\n",
    "\n",
    "pares = [2,4,6,8,10] # Lista de números pares\n",
    "print(f\"Lista original: {pares}\")\n",
    "pares.remove(8) # Remuevo el elemento 8\n",
    "print(f\"Lista después de eliminar un elemento: {pares}\")"
   ]
  },
  {
   "cell_type": "markdown",
   "id": "3ada9d76-6286-4590-b27a-0f1cb7595c52",
   "metadata": {},
   "source": [
    "#### Forma alternativa de eliminar elementos usando `del` (delete)"
   ]
  },
  {
   "cell_type": "code",
   "execution_count": 30,
   "id": "7a23e94f",
   "metadata": {},
   "outputs": [
    {
     "name": "stdout",
     "output_type": "stream",
     "text": [
      "Lista original: [10, 20, 30, 40, 50]\n",
      "Lista eliminada: [20, 30, 40, 50]\n",
      "\n"
     ]
    }
   ],
   "source": [
    "lista_1 = [10,20,30,40,50]\n",
    "print(f\"Lista original: {lista_1}\")\n",
    "\n",
    "del lista_1[0] # Elimina el índice[0] de lista_1\n",
    "print(f\"Lista eliminada: {lista_1}\\n\")"
   ]
  },
  {
   "cell_type": "markdown",
   "id": "5e7e5314-ec78-4962-b07e-de3af5584533",
   "metadata": {},
   "source": [
    "### Agregar `.append()`, insertar `insert()`, y extender `.extend()` elementos"
   ]
  },
  {
   "cell_type": "code",
   "execution_count": 31,
   "id": "dfaebcfc-ff0e-4490-a19d-8f0accefe3dc",
   "metadata": {},
   "outputs": [
    {
     "name": "stdout",
     "output_type": "stream",
     "text": [
      "Lista original: [5, 10, 15, 20]\n",
      "Lista después de agregar un elemento: [5, 10, 15, 20, 25]\n",
      "\n"
     ]
    }
   ],
   "source": [
    "# Ejemplo: Uso de agregar \".append()\"\n",
    "\n",
    "multiplos_cinco = [5,10,15,20] # Lista de múltiplos del 5\n",
    "print(f\"Lista original: {multiplos_cinco}\")\n",
    "\n",
    "multiplos_cinco.append(25) # Agrega un nuevo elemento en la última posición\n",
    "print(f\"Lista después de agregar un elemento: {multiplos_cinco}\\n\")"
   ]
  },
  {
   "cell_type": "code",
   "execution_count": 32,
   "id": "977ade83-de8c-4ec2-8bbc-5c92e5352611",
   "metadata": {},
   "outputs": [
    {
     "name": "stdout",
     "output_type": "stream",
     "text": [
      "Lista original: [5, 10, 15, 20]\n",
      "Lista después de insertar un elemento: [5, 25, 10, 15, 20]\n",
      "\n"
     ]
    }
   ],
   "source": [
    "# Ejemplo: Uso de insertar \".insert()\"\n",
    "\n",
    "multiplos_cinco = [5,10,15,20] # Lista de múltiplos del 5\n",
    "print(f\"Lista original: {multiplos_cinco}\")\n",
    "\n",
    "multiplos_cinco.insert(1,25) #Este comando inserta un elemento en la posición especificada de la lista.\n",
    "print(f\"Lista después de insertar un elemento: {multiplos_cinco}\\n\")"
   ]
  },
  {
   "cell_type": "code",
   "execution_count": 33,
   "id": "5b608c5d-2462-4543-b7e8-5c01dcdd4a13",
   "metadata": {},
   "outputs": [
    {
     "name": "stdout",
     "output_type": "stream",
     "text": [
      "Lista original: [5, 10, 15, 20]\n",
      "Lista después de extenderla : [5, 10, 15, 20, 25, 30, 35]\n",
      "\n"
     ]
    }
   ],
   "source": [
    "# Ejemplo: Uso de extender \".extend()\"\n",
    "\n",
    "multiplos_cinco = [5,10,15,20] # Lista de múltiplos del 5\n",
    "print(f\"Lista original: {multiplos_cinco}\")\n",
    "\n",
    "#Este método extiende la lista agregando los elementos al final de la lista.\n",
    "multiplos_cinco.extend([25,30,35]) \n",
    "print(f\"Lista después de extenderla : {multiplos_cinco}\\n\")"
   ]
  },
  {
   "cell_type": "markdown",
   "id": "8b4a64ee-6d5e-47fd-86d6-807126b583b7",
   "metadata": {},
   "source": [
    "### Ordenamiento `.sort()` y reversión `.reverse()` de una lista "
   ]
  },
  {
   "cell_type": "code",
   "execution_count": 21,
   "id": "e57217b2-31ff-4c98-b327-00380236f019",
   "metadata": {},
   "outputs": [
    {
     "name": "stdout",
     "output_type": "stream",
     "text": [
      "Lista original: [12, 5, 4, 9, 7]\n",
      "Lista ordenada en orden ascendente: [4, 5, 7, 9, 12]\n",
      "Lista ordenada en orden descendente: [12, 9, 7, 5, 4]\n",
      "\n",
      "Lista original: [15, 5, 10, 20]\n",
      "Lista invertida: [20, 10, 5, 15]\n"
     ]
    }
   ],
   "source": [
    "lista_2 = [12,5,4,9,7]\n",
    "print(f\"Lista original: {lista_2}\")\n",
    "\n",
    "# Ordena de manera ascendente la lista_2\n",
    "lista_2.sort()\n",
    "print(f\"Lista ordenada en orden ascendente: {lista_2}\")\n",
    "\n",
    "# Ordena de manera descendente la lista_2\n",
    "lista_2.sort(reverse=True)\n",
    "print(f\"Lista ordenada en orden descendente: {lista_2}\\n\")\n",
    "\n",
    "#----------------------------------------\n",
    "\n",
    "lista_3 = [15,5,10,20]\n",
    "print(f\"Lista original: {lista_3}\")\n",
    "\n",
    "# Invierte el orden de los elementos de lista_3\n",
    "lista_3.reverse()\n",
    "print(f\"Lista invertida: {lista_3}\")"
   ]
  },
  {
   "cell_type": "markdown",
   "id": "5bc7c42a-f585-4b6c-aaff-1c6d9462acc7",
   "metadata": {},
   "source": [
    "### Máximo `max()`, mínimo `min()`, suma `sum()` de una lista "
   ]
  },
  {
   "cell_type": "code",
   "execution_count": 24,
   "id": "92ab5538-ee36-485c-bb2c-00f7d4e4c744",
   "metadata": {},
   "outputs": [
    {
     "name": "stdout",
     "output_type": "stream",
     "text": [
      "Lista original: [0.25, 20, 15, 3.45]\n",
      "El máximo de la lista es: 20\n",
      "El mínimo de la lista es: 0.25\n",
      "La suma de la lista es: 38.7\n"
     ]
    }
   ],
   "source": [
    "# Ejemplo:\n",
    "\n",
    "lista_4 = [0.25,20,15,3.45]\n",
    "print(f\"Lista original: {lista_4}\")\n",
    "\n",
    "print(f\"El máximo de la lista es: {max(lista_4)}\") # Máximo\n",
    "print(f\"El mínimo de la lista es: {min(lista_4)}\") # Mínimo\n",
    "print(f\"La suma de la lista es: {sum(lista_4)}\") # Suma"
   ]
  },
  {
   "cell_type": "markdown",
   "id": "f0c879b3-4114-4b28-afc3-9a3389f837a2",
   "metadata": {},
   "source": [
    "#### Contar cuántas veces aparece un elemento en la lista `count()`"
   ]
  },
  {
   "cell_type": "code",
   "execution_count": 23,
   "id": "3e4edec0-10d1-4599-bc41-ecdf45d25167",
   "metadata": {},
   "outputs": [
    {
     "name": "stdout",
     "output_type": "stream",
     "text": [
      "El número 3 aparece: 2 veces\n",
      "El número 2 aparece: 3 veces\n"
     ]
    }
   ],
   "source": [
    "lista_5 = [3,2,4,2,3,2,7,8]\n",
    "\n",
    "print(f'El número 3 aparece: {lista_5.count(3)} veces') \n",
    "print(f'El número 2 aparece: {lista_5.count(2)} veces') "
   ]
  },
  {
   "cell_type": "markdown",
   "id": "4456f80e-aa43-44b7-a465-ecac6f314114",
   "metadata": {},
   "source": [
    "### <span style=\"color:purple\">  Ejemplo: </span> Usar una lista para almacenar números pares"
   ]
  },
  {
   "cell_type": "code",
   "execution_count": 25,
   "id": "b8aa98ac-0352-46fd-8266-b7b25be943ea",
   "metadata": {},
   "outputs": [
    {
     "name": "stdout",
     "output_type": "stream",
     "text": [
      "Números pares: [2, 4, 6, 8, 10]\n",
      "<class 'list'>\n"
     ]
    }
   ],
   "source": [
    "# Definir una lista vacía para almacenar números pares\n",
    "numeros_pares = []\n",
    "\n",
    "# Iterar sobre los números en un rango específico\n",
    "for i in range(1, 11):  # Rango del 1 al 10\n",
    "    # Verificar si el número es par\n",
    "    if i % 2 == 0:\n",
    "        # Si es par, agregarlo a la lista de números pares\n",
    "        numeros_pares.append(i)\n",
    "\n",
    "# Imprimir la lista de números pares\n",
    "print(\"Números pares:\", numeros_pares)\n",
    "print(type(numeros_pares))"
   ]
  },
  {
   "cell_type": "markdown",
   "id": "24e6caeb-ab0e-43ad-bbfe-f3f7bedd630a",
   "metadata": {},
   "source": [
    "#### <span style=\"color:purple\">  Ejemplo: </span> Desplazamiento de un Objeto en Movimiento Uniformemente Acelerado (MUA) con Bucle `for`"
   ]
  },
  {
   "cell_type": "code",
   "execution_count": 26,
   "id": "b2d146b7-6e49-43a2-969b-5a0773f69cb2",
   "metadata": {},
   "outputs": [
    {
     "name": "stdin",
     "output_type": "stream",
     "text": [
      "Ingrese la velocidad inicial (m/s):  4\n",
      "Ingrese la aceleración (m/s^2):  2\n",
      "Ingrese el tiempo total de movimiento (segundos):  10\n"
     ]
    },
    {
     "name": "stdout",
     "output_type": "stream",
     "text": [
      "\n",
      "Resultados:\n",
      "\n",
      "Tiempo: [1, 2, 3, 4, 5, 6, 7, 8, 9, 10]\n",
      "Desplazamiento: [5.0, 12.0, 21.0, 32.0, 45.0, 60.0, 77.0, 96.0, 117.0, 140.0]\n"
     ]
    }
   ],
   "source": [
    "# Solicitar al usuario ingresar la velocidad inicial, la aceleración y el tiempo total\n",
    "v0 = float(input(\"Ingrese la velocidad inicial (m/s): \"))\n",
    "a = float(input(\"Ingrese la aceleración (m/s^2): \"))\n",
    "t_total = float(input(\"Ingrese el tiempo total de movimiento (segundos): \"))\n",
    "\n",
    "# Inicializar listas para almacenar los resultados de tiempo y desplazamiento\n",
    "tiempo = []\n",
    "desplazamiento = []\n",
    "\n",
    "# Calcular y guardar los resultados en listas\n",
    "for t in range(1,int(t_total) + 1):\n",
    "    tiempo.append(t)\n",
    "    desplazamiento.append(v0 * t + 0.5 * a * t**2)\n",
    "\n",
    "# Imprimir los resultados almacenados en las listas\n",
    "print(\"\\nResultados:\\n\")\n",
    "print(\"Tiempo:\", tiempo)\n",
    "print(\"Desplazamiento:\", desplazamiento)\n"
   ]
  },
  {
   "cell_type": "markdown",
   "id": "92f49bc3-938b-4135-9499-f691ce06c753",
   "metadata": {},
   "source": [
    "### <font color='orange'> Comprensión de listas </font> \n",
    "\n",
    "La **comprensión de listas** en *Python* es una forma concisa y poderosa de crear listas. Permite crear una nueva lista aplicando una expresión a cada elemento de una secuencia (como otra lista), o para filtrar elementos de una secuencia, \n",
    "de una manera muy legible y eficiente.\n",
    "\n",
    "La sintaxis general de una comprensión de lista \n",
    "````python \n",
    "[expresion for elemento in secuencia if condicion]\n",
    "````\n",
    "donde:\n",
    "\n",
    "* **expresion** es el valor que se agrega a la nueva lista.\n",
    "* **elemento** es una variable que representa cada elemento de la secuencia.\n",
    "* **secuencia** es la secuencia sobre la cual iteramos.\n",
    "* **condicion** es una expresión opcional que filtra los elementos de la secuencia.\n",
    "\n",
    "La comprensión de listas es una herramienta muy útil en Python para escribir código más claro y legible, \n",
    "evitando la necesidad de usar bucles for tradicionales.\n"
   ]
  },
  {
   "cell_type": "code",
   "execution_count": 5,
   "id": "eedb3a61-c4d6-4723-abc7-175aa7678e90",
   "metadata": {},
   "outputs": [
    {
     "name": "stdout",
     "output_type": "stream",
     "text": [
      "[3, 6, 9, 12, 15]\n",
      "[3, 6, 9, 12, 15]\n"
     ]
    }
   ],
   "source": [
    "# Crea una lista de los números del 1 al 5 multiplicados por 3:\n",
    "\n",
    "squares = []\n",
    "for x in range(1, 6):\n",
    "    squares.append(3*x)\n",
    "\n",
    "print(squares)\n",
    "\n",
    "# Usando \"comprensión de listas\"\n",
    "squares_1 = [3*x for x in range(1, 6)]\n",
    "\n",
    "# 3*x: Es la expresión que se agrega a la lista resultante.\n",
    "# \"for x in range(1, 6)\": Esto establece un bucle for que itera sobre cada número x en el rango de 1 a 5 (inclusive). \n",
    "# La variable x toma el valor de cada número en ese rango, uno por uno.\n",
    "print(squares_1)"
   ]
  },
  {
   "cell_type": "code",
   "execution_count": 12,
   "id": "e4d56297-c11e-42d9-ab12-fde7cc70e6e4",
   "metadata": {},
   "outputs": [
    {
     "name": "stdout",
     "output_type": "stream",
     "text": [
      "[2, 4, 6, 8, 10]\n",
      "\u001b[42m [2, 4, 6, 8, 10] \u001b[0m\n"
     ]
    }
   ],
   "source": [
    "# Vamos a crear una lista que contenga solo los números pares dentro de un rango dado, digamos del 1 al 10\n",
    "\n",
    "pares = []\n",
    "for i in range(1, 11):\n",
    "    if i % 2 == 0:\n",
    "        pares.append(i)\n",
    "\n",
    "print(pares)\n",
    "# Usando \"comprensión de listas\"\n",
    "pares_1 = [i for i in range(1, 11) if i % 2 == 0]\n",
    "# i: Es la expresión que se agrega a la lista resultante. \n",
    "# for i in range(1, 11): Esto establece un bucle for que itera sobre cada número i en el rango de 1 a 10 (inclusive). \n",
    "# if i % 2 == 0: Esta es una condición que se aplica a cada valor de i\n",
    "\n",
    "from colorama import Fore, Back, Style\n",
    "\n",
    "# Imprime texto en rojo\n",
    "print(f\"{Back.GREEN} {pares_1} {Style.RESET_ALL}\")\n",
    "\n",
    "# La expresión i se agrega a la lista resultante si la condición if i % 2 == 0 se cumple para ese valor de i."
   ]
  },
  {
   "cell_type": "code",
   "execution_count": null,
   "id": "7eced7d5-85c0-4932-9cd0-84b28297b190",
   "metadata": {},
   "outputs": [],
   "source": []
  }
 ],
 "metadata": {
  "kernelspec": {
   "display_name": "Python 3 (ipykernel)",
   "language": "python",
   "name": "python3"
  },
  "language_info": {
   "codemirror_mode": {
    "name": "ipython",
    "version": 3
   },
   "file_extension": ".py",
   "mimetype": "text/x-python",
   "name": "python",
   "nbconvert_exporter": "python",
   "pygments_lexer": "ipython3",
   "version": "3.10.12"
  }
 },
 "nbformat": 4,
 "nbformat_minor": 5
}
