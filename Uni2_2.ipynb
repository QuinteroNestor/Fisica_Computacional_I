{
 "cells": [
  {
   "cell_type": "markdown",
   "id": "ea3e466d-d925-408e-b6dc-1df2de8da7df",
   "metadata": {},
   "source": [
    "# <center> <font color='blue'> Unidad 2: Manipulación de datos </font> </center>"
   ]
  },
  {
   "cell_type": "markdown",
   "id": "a67c0ec4-30c3-4596-83b1-e9e6ab44299f",
   "metadata": {},
   "source": [
    "# <font color='blue'> Funciones </font>\n",
    "---"
   ]
  },
  {
   "cell_type": "markdown",
   "id": "a9bb78b3-b3d8-4950-beec-905993d399f0",
   "metadata": {},
   "source": [
    "## Definición, características y uso de funciones en *Python*\n",
    "\n",
    "Las funciones en Python son bloques de código reutilizables que realizan una tarea específica cuando se llaman. \n",
    "\n",
    "**Definición de funciones:** Se define una función utilizando la palabra clave `def`, seguida del nombre de la función y los parámetros entre paréntesis. La sintaxis es la siguiente:\n",
    "  ```python\n",
    "  def nombre_de_la_funcion(parametros):\n",
    "      # Cuerpo de la función\n",
    "```\n",
    "\n",
    "**Características:**\n",
    "      \n",
    "* Las funciones pueden tener parámetros opcionales con valores predeterminados.\n",
    "* La declaración `return` en Python se utiliza para especificar el valor que una función debería devolver. Cuando una función se llama y ejecuta, \n",
    "el resultado de la evaluación de la expresión después de `return` se devuelve como el resultado de la función.\n",
    "* Las funciones ayudan a organizar y reutilizar el código, reducir la repetición y mejorar la legibilidad.\n"
   ]
  },
  {
   "cell_type": "markdown",
   "id": "092f40b7-b0fb-45c7-9d16-db281e66d68c",
   "metadata": {},
   "source": [
    "## <font color='blue'> Funciones con un solo parámetro (definición y uso) </font>  "
   ]
  },
  {
   "cell_type": "code",
   "execution_count": null,
   "id": "24ffc265-edee-42fb-8e5f-5390d4a2a057",
   "metadata": {},
   "outputs": [],
   "source": [
    "# Definimos función cuadrado\n",
    "def cuadrado(x):\n",
    "    return x**2\n",
    "\n",
    "# Se solicita el valor del número\n",
    "numero = float(input(\"Ingrese el valor de un número: \"))\n",
    "resultado = cuadrado(numero)\n",
    "print(\"El cuadrado del número ingresado es:\", resultado)"
   ]
  },
  {
   "cell_type": "code",
   "execution_count": 5,
   "id": "f4ef7d90-cfdc-466d-a1bd-debf26c6a615",
   "metadata": {},
   "outputs": [
    {
     "name": "stdin",
     "output_type": "stream",
     "text": [
      "Ingresa el radio del círculo (cm):  4\n"
     ]
    },
    {
     "name": "stdout",
     "output_type": "stream",
     "text": [
      "Área del círculo es: 50.265 cm^2\n"
     ]
    }
   ],
   "source": [
    "# Script simple: Calculadora de área de un círculo\n",
    "from math import pi\n",
    "\n",
    "def area_circulo(radio):\n",
    "    return pi * radio**2\n",
    "\n",
    "# Solicitar radio al usuario\n",
    "radio_usuario = float(input(\"Ingresa el radio del círculo (cm): \"))\n",
    "area_resultante = area_circulo(radio_usuario)\n",
    "print(f'Área del círculo es: {round(area_resultante,3)} cm^2')\n",
    "#print(\"Área del círculo:\", area_resultante)"
   ]
  },
  {
   "cell_type": "code",
   "execution_count": 8,
   "id": "dbf8ffc8-dfe9-45a1-a72e-92cfd43e338c",
   "metadata": {},
   "outputs": [
    {
     "name": "stdin",
     "output_type": "stream",
     "text": [
      "Ingresa la base (m):  4\n",
      "Ingresa la altura (m):  5\n"
     ]
    },
    {
     "name": "stdout",
     "output_type": "stream",
     "text": [
      "Área del rectángulo es: 20.0 m^2\n"
     ]
    }
   ],
   "source": [
    "# Ejercicio: Calcular el área de un rectángulo solicitando los valores de base y altura\n",
    "# Definimos la función area_rectangulo\n",
    "def area_rectangulo(base,altura) :\n",
    "    return base * altura\n",
    "\n",
    "# Se solicitan los valores de base y altura\n",
    "base = float(input(\"Ingresa la base (m): \"))\n",
    "altura = float(input(\"Ingresa la altura (m): \"))\n",
    "area_rectangulo = area_rectangulo(base,altura)\n",
    "\n",
    "print(f\"Área del rectángulo es: {area_rectangulo} m^2\")"
   ]
  },
  {
   "cell_type": "code",
   "execution_count": null,
   "id": "fe768eeb-385d-4c9c-a4ad-7d1715d5804e",
   "metadata": {},
   "outputs": [],
   "source": [
    "# Diseñar una función que calcule el producto de todos los números que componen una lista.\n",
    "\n",
    "def calcular_productorio(lista):\n",
    "    # Inicializamos el productorio en 1\n",
    "    productorio = 1\n",
    "    # Iteramos sobre cada número en la lista\n",
    "    for numero in lista:\n",
    "        # Multiplicamos el número actual al productorio\n",
    "        productorio *= numero\n",
    "    # Devolvemos el resultado del productorio\n",
    "    return productorio\n",
    "\n",
    "# Ejemplo de uso\n",
    "mi_lista = [1, 2, 3, 4, 5]\n",
    "resultado = calcular_productorio(mi_lista)\n",
    "print(f\"El productorio de los números en la lista es: {resultado}\")\n",
    "\n"
   ]
  },
  {
   "cell_type": "code",
   "execution_count": 1,
   "id": "5307db04-7a74-43f0-ada6-64c5f0a711cc",
   "metadata": {},
   "outputs": [
    {
     "name": "stdout",
     "output_type": "stream",
     "text": [
      "Ingresa el número límite: 20\n",
      "Números pares hasta el límite de 20 : [2, 4, 6, 8, 10, 12, 14, 16, 18, 20]\n"
     ]
    }
   ],
   "source": [
    "# Creamos una función llamada buscar_pares que toma un argumento 'limite'\n",
    "# que representa el final del rango.\n",
    "\n",
    "def buscar_pares(limite):    \n",
    "    # Usamos comprensión de listas para generar una lista de números pares en el rango de 1 a 'limite'.\n",
    "    pares = [i for i in range(1, limite + 1) if i % 2 == 0]\n",
    "    \n",
    "    # Retornamos la lista de números pares.\n",
    "    return pares\n",
    "\n",
    "# Ejemplo de uso de la función\n",
    "limite = int(input(\"Ingresa el número límite: \"))\n",
    "pares = buscar_pares(limite)\n",
    "# Imprimimos los números pares hasta el límite especificado.\n",
    "print(f\"Números pares hasta el límite de {limite} : {pares}\")\n"
   ]
  },
  {
   "cell_type": "markdown",
   "id": "b7653dfd-1398-4038-afcb-99afe757eeeb",
   "metadata": {},
   "source": [
    "## <font color='blue'> Funciones con varios parámetros (definición y uso) </font>  "
   ]
  },
  {
   "cell_type": "code",
   "execution_count": 6,
   "id": "823ab5e5-e97c-4b12-b061-8813eaa19dcf",
   "metadata": {},
   "outputs": [
    {
     "name": "stdout",
     "output_type": "stream",
     "text": [
      "Ingresa el valor de 'x': 4\n",
      "Ingresa el valor de 'y': 5\n",
      "La distancia es: 6.403\n"
     ]
    }
   ],
   "source": [
    "# Raiz cuadrada de dos números\n",
    " \n",
    "from math import sqrt\n",
    "\n",
    "def distancia(x, y):\n",
    "    return sqrt(x ** 2 + y ** 2)\n",
    "\n",
    "x_1 = float(input(\"Ingresa el valor de 'x': \"))\n",
    "y_1 = float(input(\"Ingresa el valor de 'y': \"))\n",
    "\n",
    "print(f\"La distancia es: {round(distancia(x_1,y_1),3)}\")\n"
   ]
  },
  {
   "cell_type": "code",
   "execution_count": 9,
   "id": "368e1634-ffd2-4362-9733-c4570ac7132f",
   "metadata": {},
   "outputs": [
    {
     "name": "stdout",
     "output_type": "stream",
     "text": [
      "La suma de las mediciones es: 23.8 +/- 0.361\n"
     ]
    }
   ],
   "source": [
    "# Importamos raiz cuadrada \"sqrt\" desde math\n",
    "from math import sqrt\n",
    "\n",
    "def suma_con_incertidumbre(x1, deltax1, x2, deltax2):\n",
    "    suma = x1 + x2\n",
    "    incertidumbre_suma = sqrt(deltax1**2 + deltax2**2)\n",
    "    return suma, incertidumbre_suma\n",
    "\n",
    "# Ejemplo de uso\n",
    "a = 12.5\n",
    "delta_a = 0.2\n",
    "b = 11.3\n",
    "delta_b = 0.3\n",
    "\n",
    "resultado_suma, incertidumbre_suma = suma_con_incertidumbre(a,delta_a,b,delta_b)\n",
    "\n",
    "#Imprimo el resultado final\n",
    "print(f\"La suma de las mediciones es: {resultado_suma} +/- {round(incertidumbre_suma,3)}\")\n"
   ]
  },
  {
   "cell_type": "markdown",
   "id": "413edc10-985c-4f7b-badb-930911b5c0d2",
   "metadata": {},
   "source": [
    "## <font color='blue'> Funciones SIN parámetros </font>  "
   ]
  },
  {
   "cell_type": "code",
   "execution_count": 4,
   "id": "128ba72a-b945-4d33-b38c-a89540d3b1fc",
   "metadata": {},
   "outputs": [
    {
     "name": "stdout",
     "output_type": "stream",
     "text": [
      "¡Hola! Bienvenido.\n"
     ]
    }
   ],
   "source": [
    "def saludar():\n",
    "    print(\"¡Hola! Bienvenido.\")\n",
    "\n",
    "# Llamada a la función\n",
    "saludar()"
   ]
  },
  {
   "cell_type": "code",
   "execution_count": 5,
   "id": "7fbf1690-6c0b-459f-9fd9-55beded9d417",
   "metadata": {},
   "outputs": [
    {
     "name": "stdout",
     "output_type": "stream",
     "text": [
      "¡Hasta luego! Que tengas un buen día.\n"
     ]
    }
   ],
   "source": [
    "def despedirse():\n",
    "    print(\"¡Hasta luego! Que tengas un buen día.\")\n",
    "\n",
    "# Llamada a la función\n",
    "despedirse()\n"
   ]
  },
  {
   "cell_type": "code",
   "execution_count": 10,
   "id": "4ad82703-0e38-4431-b4ff-530cdc1537ad",
   "metadata": {},
   "outputs": [
    {
     "name": "stdout",
     "output_type": "stream",
     "text": [
      "¡Hola! Bienvenido Juan\n"
     ]
    }
   ],
   "source": [
    "def saludo(name):\n",
    "    print(\"¡Hola! Bienvenido\", name)\n",
    "\n",
    "# Llamada a la función\n",
    "saludo(\"Juan\")"
   ]
  },
  {
   "cell_type": "code",
   "execution_count": 14,
   "id": "c2d46fa4-5c7a-4bb0-b7c9-1966e7417bef",
   "metadata": {},
   "outputs": [
    {
     "name": "stdout",
     "output_type": "stream",
     "text": [
      "Rojo\n",
      "Verde\n",
      "Azul\n",
      "Amarillo\n",
      "Blanco\n"
     ]
    }
   ],
   "source": [
    "def imprimir_colores():\n",
    "    colores = [\"Rojo\", \"Verde\", \"Azul\", \"Amarillo\", \"Blanco\"]\n",
    "    for color in colores:\n",
    "        print(color)\n",
    "\n",
    "# Llamada a la función\n",
    "imprimir_colores()\n"
   ]
  },
  {
   "cell_type": "code",
   "execution_count": 22,
   "id": "0d63612b-4033-4b56-812b-bda85c47e6d9",
   "metadata": {},
   "outputs": [
    {
     "name": "stdout",
     "output_type": "stream",
     "text": [
      "Ingrese la medicion1 y su incertidumbre separadas por espacio: 12.5 0.1\n",
      "Ingrese la medicion2 y su incertidumbre separadas por espacio: 4.6 0.1\n",
      "\n",
      " El cociente de las mediciones y su incertidumbre es: 2.717391304347826 +/- 0.06294676052174594\n"
     ]
    }
   ],
   "source": [
    "def division_con_incertidumbre():\n",
    "    # Solicitar al usuario ingresar la medicion1 y su incertidumbre como una lista\n",
    "    entrada_medicion1 = input(\"Ingrese la medicion1 y su incertidumbre separadas por espacio: \")\n",
    "    valores_medicion1 = [float(x) for x in entrada_medicion1.split()]\n",
    "\n",
    "    # Verificar si se ingresaron exactamente dos valores\n",
    "    if len(valores_medicion1) != 2:\n",
    "        print(\"Debe ingresar exactamente dos valores para la medicion1: el valor de la medicion y su incertidumbre.\")\n",
    "        return None\n",
    "\n",
    "    # Asignar los valores a las variables medicion1 e incertidumbre1\n",
    "    medicion1 = valores_medicion1[0]\n",
    "    incertidumbre1 = valores_medicion1[1]\n",
    "    \n",
    "    # Solicitar al usuario ingresar la medicion2 y su incertidumbre como una lista\n",
    "    entrada_medicion2 = input(\"Ingrese la medicion2 y su incertidumbre separadas por espacio: \")\n",
    "    valores_medicion2 = [float(x) for x in entrada_medicion2.split()]\n",
    "\n",
    "    # Verificar si se ingresaron exactamente dos valores\n",
    "    if len(valores_medicion2) != 2:\n",
    "        print(\"Debe ingresar exactamente dos valores para la medicion2: el valor de la medicion y su incertidumbre.\")\n",
    "        return None\n",
    "\n",
    "    # Asignar los valores a las variables medicion2 e incertidumbre2\n",
    "    medicion2 = valores_medicion2[0]\n",
    "    incertidumbre2 = valores_medicion2[1]\n",
    "\n",
    "    # Calcular el cociente de las mediciones\n",
    "    division = medicion1 / medicion2\n",
    "    \n",
    "    # Calcular la incertidumbre del cociente\n",
    "    from math import sqrt\n",
    "    incertidumbre_division = sqrt((incertidumbre1 / medicion2) ** 2 + ((medicion1 * incertidumbre2) / (medicion2 ** 2)) ** 2)\n",
    "    \n",
    "    return division, incertidumbre_division\n",
    "\n",
    "# Obtener el cociente y su incertidumbre llamando a la función\n",
    "div, delta_div = division_con_incertidumbre()\n",
    "\n",
    "# Imprimir el resultado\n",
    "\n",
    "print(f\"\\n El cociente de las mediciones y su incertidumbre es: {div} +/- {delta_div}\")\n"
   ]
  },
  {
   "cell_type": "markdown",
   "id": "484bcf8e-566e-4b38-83fa-d411b0df7773",
   "metadata": {},
   "source": [
    "### <font color='purple'> Módulo`random` </font>\n",
    "---\n",
    "El módulo incorporado (bult-in) en *Python* llamado `random` proporciona funciones para generar números aleatorios y \n",
    "realizar operaciones relacionadas con la aleatoriedad. \n",
    "- La aleatoriedad es útil en una variedad de situaciones, como en la generación de datos de prueba, \n",
    "juegos, simulaciones, criptografía y más. \n",
    "- El módulo `random` es importante porque permite introducir variabilidad en programas, \n",
    "lo que los hace más interesantes, útiles y realistas en muchas aplicaciones.\n",
    "\n",
    "A continuación se presentan ejemplos de cómo usar el módulo `random` en *Python*.\n",
    "\n",
    "---"
   ]
  },
  {
   "cell_type": "markdown",
   "id": "5de73859-0f4d-498a-a617-68570ff3793c",
   "metadata": {},
   "source": [
    "#### <font color='orange'> Ejemplo: </font> Generar un número entero aleatorio entre 1 y 10 (inclusivo)"
   ]
  },
  {
   "cell_type": "code",
   "execution_count": 24,
   "id": "8c6cb6cc-a46d-4a37-9b46-44cc01739bdb",
   "metadata": {},
   "outputs": [
    {
     "name": "stdout",
     "output_type": "stream",
     "text": [
      "Número aleatorio: 6\n"
     ]
    }
   ],
   "source": [
    "# Importamos el módulo random\n",
    "import random\n",
    "\n",
    "# Generar un número entero aleatorio en el rango [1, 10] (inclusivo)\n",
    "entero_aleatorio = random.randint(1, 10)\n",
    "print(f\"Número aleatorio: {entero_aleatorio}\")"
   ]
  },
  {
   "cell_type": "markdown",
   "id": "bbdc1734-22dd-4a0e-ab71-fe947f95c321",
   "metadata": {},
   "source": [
    "#### <font color='orange'> Ejemplo: </font> Generar un número flotante aleatorio entre 0 y 1"
   ]
  },
  {
   "cell_type": "code",
   "execution_count": 37,
   "id": "648a6163-74a9-4e48-add9-ec61cfbc19b7",
   "metadata": {},
   "outputs": [
    {
     "name": "stdout",
     "output_type": "stream",
     "text": [
      "Número aleatorio entre 0 y 1: 0.8032726631135444\n"
     ]
    }
   ],
   "source": [
    "# Importamos el módulo random\n",
    "import random\n",
    "\n",
    "# Generar un número entero aleatorio entre [0, 1) (exclusivo)\n",
    "float_aleatorio = random.random()\n",
    "print(f\"Número aleatorio entre 0 y 1: {float_aleatorio}\")"
   ]
  },
  {
   "cell_type": "markdown",
   "id": "1571de49-ec6c-48b8-aec3-27d6198d1414",
   "metadata": {},
   "source": [
    "#### <font color='orange'> Ejemplo: </font> Generar un número flotante aleatorio en un rango específico"
   ]
  },
  {
   "cell_type": "code",
   "execution_count": 45,
   "id": "e246013a-5261-4f3d-ab32-7b822e092bc1",
   "metadata": {},
   "outputs": [
    {
     "name": "stdout",
     "output_type": "stream",
     "text": [
      "Número flotante aleatorio entre 1 y 10: 7.135860361457509\n"
     ]
    }
   ],
   "source": [
    "import random\n",
    "\n",
    "# Generar un número aleatorio en el rango [a, b] (inclusivo)\n",
    "a = 1\n",
    "b = 10\n",
    "numero_aleatorio = random.uniform(a, b)\n",
    "print(f\"Número flotante aleatorio entre {a} y {b}: {numero_aleatorio}\")"
   ]
  },
  {
   "cell_type": "markdown",
   "id": "4d0b61c6-50f5-49ad-a87a-77488a823dcf",
   "metadata": {},
   "source": [
    "#### <font color='orange'> Ejemplo: </font> Generar una lista de números (enteros y flotantes) aleatorios dentro de un rango especificado."
   ]
  },
  {
   "cell_type": "code",
   "execution_count": 51,
   "id": "9c79024c-943f-4efe-b756-14236771d246",
   "metadata": {},
   "outputs": [
    {
     "name": "stdout",
     "output_type": "stream",
     "text": [
      "Lista de enteros aleatorio: [2, 1, 7, 8, 1]\n",
      "Lista de floats aleatorios: [3.277938614121396, 2.5983782402674622, 4.25596225915241, 4.300231054264038, 9.331227212055047]\n"
     ]
    }
   ],
   "source": [
    "# Importamos el módulo random\n",
    "import random\n",
    "\n",
    "# Generar una lista de numeros entero aleatorios en el rango [1, 10] (inclusivo)\n",
    "lista_enteros = [random.randint(1, 10) for _ in range(5)]\n",
    "\n",
    "lista_float = [random.uniform(1, 10) for _ in range(5)]\n",
    "\n",
    "print(f\"Lista de enteros aleatorio: {lista_enteros}\")\n",
    "print(f\"Lista de floats aleatorios: {lista_float}\")"
   ]
  },
  {
   "cell_type": "markdown",
   "id": "7331ea10-2362-4e4e-bf2e-6fa92e98c467",
   "metadata": {},
   "source": [
    "#### <font color='orange'> Ejemplo: </font> Selección aleatoria de un elemento de una lista"
   ]
  },
  {
   "cell_type": "code",
   "execution_count": 43,
   "id": "838de736-9c2c-45b9-9ea5-4e3a0b0b0254",
   "metadata": {},
   "outputs": [
    {
     "name": "stdout",
     "output_type": "stream",
     "text": [
      "Mazo barajado: ['8', '5', '6', 'Q', '7', '4', '10', 'K', '3', '2', '9', 'As', 'J']\n"
     ]
    }
   ],
   "source": [
    "import random\n",
    "\n",
    "# Lista de cartas en un mazo\n",
    "mazo = [\"As\", \"2\", \"3\", \"4\", \"5\", \"6\", \"7\", \"8\", \"9\", \"10\", \"J\", \"Q\", \"K\"]\n",
    "\n",
    "# Barajar el mazo\n",
    "random.shuffle(mazo)\n",
    "# Esta función baraja aleatoriamente los elementos de una secuencia.\n",
    "\n",
    "print(\"Mazo barajado:\", mazo)\n"
   ]
  },
  {
   "cell_type": "markdown",
   "id": "d64c55ab-23f6-4a0d-9846-89e15fe2436f",
   "metadata": {},
   "source": [
    "#### <font color='orange'> Ejemplo: </font> Barajado aleatorio de una lista"
   ]
  },
  {
   "cell_type": "code",
   "execution_count": null,
   "id": "1471e32d-2105-4260-8ebf-2a9a447800b8",
   "metadata": {},
   "outputs": [],
   "source": [
    "import random\n",
    "\n",
    "# Lista de opciones\n",
    "opciones = [\"Manzana\", \"Banana\", \"Naranja\", \"Pera\", \"Uva\"]\n",
    "\n",
    "# Seleccionar un elemento aleatorio de la lista\n",
    "opcion_elegida = random.choice(opciones)\n",
    "# Esta función elige aleatoriamente un elemento de una secuencia (como una lista, tupla o cadena) y lo devuelve.\n",
    "\n",
    "print(\"Opción elegida:\", opcion_elegida)\n"
   ]
  },
  {
   "cell_type": "markdown",
   "id": "4e69add6-6c27-41b4-bb00-b4db7147c7e8",
   "metadata": {},
   "source": [
    "#### <font color='orange'> Ejemplo: </font> Lanzamiento de dado"
   ]
  },
  {
   "cell_type": "code",
   "execution_count": 60,
   "id": "743266e7-2d49-4079-b0f1-39033294c72f",
   "metadata": {},
   "outputs": [
    {
     "name": "stdout",
     "output_type": "stream",
     "text": [
      "El resultado del lanzamiento del dado es: 2\n"
     ]
    }
   ],
   "source": [
    "import random\n",
    "\n",
    "def lanzar_dado():\n",
    "    return random.randint(1, 6)\n",
    "\n",
    "resultado = lanzar_dado()\n",
    "print(f\"El resultado del lanzamiento del dado es: {resultado}\")"
   ]
  },
  {
   "cell_type": "code",
   "execution_count": null,
   "id": "0b835686-2b22-46ac-9325-58728bfe308d",
   "metadata": {},
   "outputs": [],
   "source": []
  }
 ],
 "metadata": {
  "kernelspec": {
   "display_name": "Python 3 (ipykernel)",
   "language": "python",
   "name": "python3"
  },
  "language_info": {
   "codemirror_mode": {
    "name": "ipython",
    "version": 3
   },
   "file_extension": ".py",
   "mimetype": "text/x-python",
   "name": "python",
   "nbconvert_exporter": "python",
   "pygments_lexer": "ipython3",
   "version": "3.10.12"
  }
 },
 "nbformat": 4,
 "nbformat_minor": 5
}
