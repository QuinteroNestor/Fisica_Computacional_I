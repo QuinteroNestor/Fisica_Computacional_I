{
 "cells": [
  {
   "cell_type": "markdown",
   "id": "a4356c52-747d-43e0-ae2c-3d6ed1895c40",
   "metadata": {},
   "source": [
    "# <span style=\"color:blue\"> ¿Por qué estudiar Python? </span>"
   ]
  },
  {
   "cell_type": "markdown",
   "id": "98c1c9d6-df38-4d5c-b322-de0528d49851",
   "metadata": {},
   "source": [
    "<img src=\"https://1000marcas.net/wp-content/uploads/2020/11/Python-logo-600x174.png\" >"
   ]
  },
  {
   "cell_type": "markdown",
   "id": "5ccd72f5-2221-499a-9588-14397d03dac7",
   "metadata": {},
   "source": [
    "<hr />"
   ]
  },
  {
   "cell_type": "markdown",
   "id": "6f8aa316-208b-4c3c-9bb6-66e36533dc21",
   "metadata": {},
   "source": [
    "# Python: Un Vistazo Histórico y Significancia en la Ciencia y Física\n",
    "\n",
    "## Historia de Python\n",
    "\n",
    "Python, creado por Guido van Rossum, vio su primera versión en 1991. Desde entonces, ha evolucionado hasta convertirse en uno de los lenguajes de programación más populares y versátiles. Su nombre no proviene de la serpiente, sino de la afición de van Rossum por los comediantes británicos Monty Python.\n",
    "\n",
    "## Otros Lenguajes Relevantes\n",
    "\n",
    "Existen numerosos lenguajes de programación, cada uno con sus fortalezas y aplicaciones específicas. Algunos de los más relevantes incluyen:\n",
    "\n",
    "- **Fortran:** Fortran ha sido históricamente un lenguaje dominante en la computación científica y la física, especialmente en tareas que requieren un alto rendimiento en cálculos numéricos.  \n",
    "- **C/C++:** Utilizado en sistemas embebidos, juegos y desarrollo de software de sistemas.\n",
    "- **Java:** Ampliamente utilizado para desarrollo de aplicaciones empresariales y aplicaciones Android.\n",
    "- **JavaScript:** Esencial para desarrollo web y aplicaciones del lado del cliente.\n",
    "- **R:** Utilizado en estadísticas y análisis de datos.\n",
    "- **Julia:** Lenguaje de programación especializado en cómputo científico y técnico, \n",
    "    se compara favorablemente con Python en rendimiento y concurrencia.\n",
    "    \n",
    "    `Python` ha ganado popularidad debido a su sintaxis más moderna,una comunidad más grande, y a la extensa variedad de bibliotecas científicas disponibles.\n",
    "                                                                                                                                                       \n",
    "## <span style=\"color:red\"> ¿Por qué Python? </span>\n",
    "\n",
    "### 1. Sintaxis Clara y Concisa\n",
    "Python se destaca por su sintaxis clara y concisa, lo que facilita la lectura y escritura de código. Su filosofía \"Zen de Python\" promueve la legibilidad y simplicidad.\n",
    "\n",
    "### 2. Amplia Comunidad y Bibliotecas\n",
    "La comunidad Python es extensa y activa, lo que resulta en una abundancia de bibliotecas y módulos. Esto facilita el acceso a herramientas especializadas para diversas aplicaciones.\n",
    "\n",
    "### 3. Versatilidad\n",
    "Python es versátil y se utiliza en una amplia gama de campos: desarrollo web, inteligencia artificial, análisis de datos, automatización, etc.\n",
    "\n",
    "## <span style=\"color:orange\"> Python en Ciencia y Física </span> \n",
    "\n",
    "### 1. Ciencia de Datos y Análisis\n",
    "En la ciencia, Python se ha convertido en el lenguaje preferido para la manipulación y análisis de datos. Bibliotecas como NumPy, Pandas y Matplotlib son fundamentales.\n",
    "\n",
    "### 2. Simulaciones y Modelado\n",
    "En física, Python se utiliza para simular fenómenos y modelar sistemas complejos. Bibliotecas como SciPy y SymPy son esenciales para este propósito.\n",
    "\n",
    "### 3. Herramientas Específicas\n",
    "Python es la base de herramientas específicas para la física, como el paquete `Astropy` para astronomía o `QuTiP` para la teoría cuántica.\n",
    "\n",
    "En resumen, Python destaca por su versatilidad, sintaxis clara y activa comunidad. Su importancia en la ciencia y la física radica en su capacidad para abordar una amplia gama de tareas, desde análisis de datos hasta simulaciones complejas.\n"
   ]
  },
  {
   "cell_type": "markdown",
   "id": "e6722488-3551-4d94-8a46-6a38472b079a",
   "metadata": {},
   "source": [
    "<hr />"
   ]
  },
  {
   "cell_type": "markdown",
   "id": "f0507825-5ce6-40a9-8df6-d6ad5a5a9d05",
   "metadata": {},
   "source": [
    "# Guía de Instalación de Python y Jupyter Notebook en Ubuntu\n",
    "Puedes personalizar esto según la versión específica que desees sugerir.\n",
    "\n",
    "## Paso 1: Instalación de Python\n",
    "- Visita https://www.python.org/downloads/\n",
    "- Descarga e instala la última versión de Python para tu sistema operativo.\n",
    "\n",
    "## Paso 2: Verificación de la Instalación\n",
    "- Abre una terminal o línea de comandos.\n",
    "- Ejecuta los siguientes comandos:\n",
    "    - `python --version` (debería mostrar la versión de Python instalada)\n",
    "    - `pip --version` (debería mostrar la información de pip)\n",
    "\n",
    "## Paso 3: Instalación de Jupyter Notebook\n",
    "- Ejecuta el siguiente comando:\n",
    "    - `pip install jupyter`\n",
    "\n",
    "## Paso 4: Verificación de Jupyter Notebook\n",
    "- Ejecuta el siguiente comando:\n",
    "    - `jupyter notebook`\n",
    "- Debería abrirse una nueva ventana en tu navegador.\n",
    "\n",
    "¡Listo! Ahora estás preparado para comenzar con Python y Jupyter Notebook en este curso.\n"
   ]
  }
 ],
 "metadata": {
  "kernelspec": {
   "display_name": "Python 3 (ipykernel)",
   "language": "python",
   "name": "python3"
  },
  "language_info": {
   "codemirror_mode": {
    "name": "ipython",
    "version": 3
   },
   "file_extension": ".py",
   "mimetype": "text/x-python",
   "name": "python",
   "nbconvert_exporter": "python",
   "pygments_lexer": "ipython3",
   "version": "3.10.12"
  }
 },
 "nbformat": 4,
 "nbformat_minor": 5
}
