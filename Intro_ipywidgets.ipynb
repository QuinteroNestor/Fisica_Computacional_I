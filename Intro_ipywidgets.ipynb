{
 "cells": [
  {
   "cell_type": "markdown",
   "id": "8413db3c-431b-4571-9d6c-99d54c75ab81",
   "metadata": {},
   "source": [
    "# <center> <font color='blue'> Introducción a IPyWidgets </font> </center>\n",
    "\n",
    "# <font color='blue'> ¿Qué es?  </font> \n",
    "---\n",
    "\n",
    "**IPyWidgets** es una biblioteca de Python que permite crear widgets interactivos para Jupyter Notebooks y JupyterLab. Estos widgets permiten a los usuarios interactuar con el código y los resultados de una manera \n",
    "más dinámica y visual, haciendo que los notebooks sean más atractivos y útiles para el análisis de datos, \n",
    "la exploración científica y la enseñanza.\n",
    "\n",
    "## <font color='blue'> Características principales de IPyWidgets: </font> \n",
    "---\n",
    "\n",
    "- **Gran variedad de widgets:** Ofrece una amplia gama de widgets como sliders, botones, dropdown menus, casillas de verificación, entradas de texto y visualizaciones.\n",
    "- **Interactividad con el código:** Los widgets se pueden conectar a variables y funciones en el código Python, permitiendo que los usuarios manipulen los datos y observen los cambios en los resultados en tiempo real.\n",
    "- **Visualización de datos:** Los widgets facilitan la visualización de datos de manera interactiva, permitiendo crear gráficos, tablas y otros elementos visuales que se actualizan automáticamente al modificar los valores de los widgets.\n",
    "- **Facilidad de uso:** *IPyWidgets* tiene una sintaxis sencilla y fácil de aprender, lo que permite a los usuarios comenzar a crear widgets interactivos sin necesidad de grandes conocimientos de programación.\n",
    "- **Amplia comunidad:** Cuenta con una comunidad activa de usuarios y desarrolladores que comparten ejemplos, tutoriales y \n",
    "soluciones a problemas comunes.\n",
    "- **Modelado de datos:** Los widgets permiten ajustar parámetros de modelos de forma interactiva y observar cómo estos cambios afectan las predicciones del modelo.\n",
    "- **Enseñanza:** Los notebooks interactivos con IPyWidgets pueden ser una herramienta valiosa para la enseñanza de conceptos científicos y matemáticos, ya que permiten a los estudiantes experimentar con diferentes escenarios y visualizar los resultados de manera dinámica.\n",
    "\n",
    "\n",
    "#### <center>  Documentación Oficial de IPyWidgets: [https://ipywidgets.readthedocs.io/en/stable/ ) </center>\n",
    "    \n",
    "#### <center>  Tutoriales Oficiales: [https://github.com/jupyter-widgets/tutorial ) </center>"
   ]
  },
  {
   "cell_type": "markdown",
   "id": "26e5be70-4b2b-4e82-a0b8-90ffc5cb8b7b",
   "metadata": {},
   "source": [
    "## Otras bibliotecas para agregar interactividad a Jupyter Notebooks\n",
    "---\n",
    "\n",
    "Existen varias bibliotecas para agregar interactividad a tus notebooks. Algunas de las más populares son:\n",
    "\n",
    "- **Bokeh:** Una biblioteca poderosa para la visualización interactiva.\n",
    "- **Plotly:** Ofrece gráficos interactivos que pueden ser incrustados en notebooks.\n",
    "- **Panel:** Facilita la creación de paneles interactivos y dashboards.\n",
    "- **Voila:** Convierte notebooks en aplicaciones web interactivas.\n",
    "- **RISE:** Permite convertir Jupyter notebooks en presentaciones con diapositivas."
   ]
  },
  {
   "cell_type": "markdown",
   "id": "1bed409c-cfc3-441e-b726-e05e30eb03b5",
   "metadata": {},
   "source": [
    "### Instalar biblioteca"
   ]
  },
  {
   "cell_type": "code",
   "execution_count": null,
   "id": "b4b1a9f9-94bb-459a-bc1e-6322bfb3033e",
   "metadata": {},
   "outputs": [],
   "source": [
    "pip install ipywidgets"
   ]
  },
  {
   "cell_type": "markdown",
   "id": "a1a024bc-fdb3-4d8e-b3e5-886ede9ba30d",
   "metadata": {},
   "source": [
    "### Importación de módulos"
   ]
  },
  {
   "cell_type": "code",
   "execution_count": 1,
   "id": "37ad608d-4dd2-4e63-a473-9621269a2191",
   "metadata": {},
   "outputs": [],
   "source": [
    "import ipywidgets as widgets\n",
    "from IPython.display import display"
   ]
  },
  {
   "cell_type": "markdown",
   "id": "4392b185-dabc-450c-b344-eb3a82b34a83",
   "metadata": {},
   "source": [
    "La función `display` pertenece al módulo `IPython.display`, que forma parte de *IPython*, el núcleo interactivo detrás de \n",
    "Jupyter. Esta función se utiliza para mostrar objetos de manera explícita en el notebook. \n",
    "Cuando creas un *widget* y quieres mostrarlo en la celda del notebook, necesitas llamar a `display` con ese *widget* como argumento."
   ]
  },
  {
   "cell_type": "markdown",
   "id": "30da9bcb-5f21-44e7-8e22-48ddd34c4e5a",
   "metadata": {},
   "source": [
    "## <font color='red'> Creación de Widgets: Ejemplos básicos </font>"
   ]
  },
  {
   "cell_type": "markdown",
   "id": "cc0d49be-2f3d-41b2-bf30-f243905aa8f3",
   "metadata": {},
   "source": [
    "### <font color='red'> 1. Deslizador (Slider): `widgets.IntSlider()`  `widgets.FloatSlider()` </font>"
   ]
  },
  {
   "cell_type": "code",
   "execution_count": 68,
   "id": "507fcbab-9a91-48a7-b030-fd8ccf1e33ea",
   "metadata": {},
   "outputs": [
    {
     "data": {
      "application/vnd.jupyter.widget-view+json": {
       "model_id": "902796d89a5c4ac3b51e0a7beced5a97",
       "version_major": 2,
       "version_minor": 0
      },
      "text/plain": [
       "IntSlider(value=0, description='Valor Int:', max=10)"
      ]
     },
     "metadata": {},
     "output_type": "display_data"
    },
    {
     "data": {
      "application/vnd.jupyter.widget-view+json": {
       "model_id": "a5cb215309ff42fdbd00e0255fd057f5",
       "version_major": 2,
       "version_minor": 0
      },
      "text/plain": [
       "FloatSlider(value=0.0, description='Valor Float:', max=10.0, min=-10.0, step=0.5)"
      ]
     },
     "metadata": {},
     "output_type": "display_data"
    }
   ],
   "source": [
    "# Crear un Slider en un rango de números enteros\n",
    "slider_int = widgets.IntSlider(min=0, max=10, step=1, description='Valor Int:') #paso por defecto 1\n",
    "# Mostrar el slider\n",
    "display(slider_int)\n",
    "\n",
    "# Crear un Slider en un rango de números enteros\n",
    "slider_float = widgets.FloatSlider(min=-10, max=10, step=0.5, description='Valor Float:')\n",
    "# Mostrar el slider\n",
    "display(slider_float)\n"
   ]
  },
  {
   "cell_type": "markdown",
   "id": "5581c7da-c802-43ae-998d-74a4428543a6",
   "metadata": {},
   "source": [
    "### <font color='red'> 2. Cuadro de Texto (Text): `widgets.Text()`  </font>"
   ]
  },
  {
   "cell_type": "code",
   "execution_count": 29,
   "id": "ab6579f9-1618-4d3c-bac6-5794377b1f65",
   "metadata": {},
   "outputs": [
    {
     "data": {
      "application/vnd.jupyter.widget-view+json": {
       "model_id": "9c98b42d588f4b22ad1e850916f723b9",
       "version_major": 2,
       "version_minor": 0
      },
      "text/plain": [
       "Text(value='Escribe algo', description='Texto:')"
      ]
     },
     "metadata": {},
     "output_type": "display_data"
    }
   ],
   "source": [
    "text = widgets.Text(value='Escribe algo', description='Texto:')\n",
    "# Mostrar el texto\n",
    "display(text)"
   ]
  },
  {
   "cell_type": "markdown",
   "id": "7057b4eb-6a87-422d-8933-aa852f485aaf",
   "metadata": {},
   "source": [
    "### <font color='red'> 3. Caja de selección: `widgets.Dropdown()`  </font>"
   ]
  },
  {
   "cell_type": "code",
   "execution_count": 30,
   "id": "54235dc1-70e1-451a-9a6f-fa6171ceb554",
   "metadata": {},
   "outputs": [
    {
     "data": {
      "application/vnd.jupyter.widget-view+json": {
       "model_id": "b446a692a65547659d9575f5b35d7276",
       "version_major": 2,
       "version_minor": 0
      },
      "text/plain": [
       "Dropdown(options=('A', 'B', 'C'), value='A')"
      ]
     },
     "metadata": {},
     "output_type": "display_data"
    }
   ],
   "source": [
    "# Crear una caja de selección con opciones \"A\", \"B\" y \"C\"\n",
    "dropdown = widgets.Dropdown(options=[\"A\", \"B\", \"C\"], value=\"A\")\n",
    "\n",
    "# Mostrar la caja de selección\n",
    "display(dropdown)"
   ]
  },
  {
   "cell_type": "markdown",
   "id": "8cd4d217-533a-46dd-9433-50d31f8cc995",
   "metadata": {},
   "source": [
    "### <font color='red'> 4. Botón (Button): `widgets.Button()`  </font>"
   ]
  },
  {
   "cell_type": "code",
   "execution_count": 36,
   "id": "bf82e490-0a57-4080-b17b-49295b44864c",
   "metadata": {},
   "outputs": [
    {
     "data": {
      "application/vnd.jupyter.widget-view+json": {
       "model_id": "76d75dc29fa043ce85fb4392a8609e91",
       "version_major": 2,
       "version_minor": 0
      },
      "text/plain": [
       "Button(description='Calcular', style=ButtonStyle())"
      ]
     },
     "metadata": {},
     "output_type": "display_data"
    }
   ],
   "source": [
    "# Crear un botón con etiqueta \"Calcular\"\n",
    "button = widgets.Button(description=\"Calcular\")\n",
    "\n",
    "# Mostrar el botón\n",
    "display(button)"
   ]
  },
  {
   "cell_type": "markdown",
   "id": "a4d3af64-9e09-4bbc-bfdc-d9b79389a60d",
   "metadata": {},
   "source": [
    "### <font color='red'> 5. Casilla de verificación (Checkbox): `widgets.Checkbox()`  </font>"
   ]
  },
  {
   "cell_type": "code",
   "execution_count": 38,
   "id": "28c6a26c-44b9-4d43-9620-d4a08b9898ec",
   "metadata": {},
   "outputs": [
    {
     "data": {
      "application/vnd.jupyter.widget-view+json": {
       "model_id": "e91fd9875d824dc489912bff795b09c0",
       "version_major": 2,
       "version_minor": 0
      },
      "text/plain": [
       "Checkbox(value=False, description='Incluir respuestas')"
      ]
     },
     "metadata": {},
     "output_type": "display_data"
    }
   ],
   "source": [
    "# Crear una casilla de verificación con etiqueta \"Incluir abs\"\n",
    "checkbox = widgets.Checkbox(description=\"Incluir respuestas\", value=False)\n",
    "\n",
    "# Mostrar la casilla de verificación\n",
    "display(checkbox)\n"
   ]
  },
  {
   "cell_type": "markdown",
   "id": "76c0c542-7d89-4a5c-9da3-de1eab3c9dd4",
   "metadata": {},
   "source": [
    "### <font color='red'> 6. Etiqueta (Label): `widgets.Label()`  </font>"
   ]
  },
  {
   "cell_type": "code",
   "execution_count": 46,
   "id": "7003171a-188b-4a1d-a3c5-d894751d3361",
   "metadata": {},
   "outputs": [
    {
     "data": {
      "application/vnd.jupyter.widget-view+json": {
       "model_id": "718e0eb4813a4134899d64a23b432541",
       "version_major": 2,
       "version_minor": 0
      },
      "text/plain": [
       "Label(value='Resultado:')"
      ]
     },
     "metadata": {},
     "output_type": "display_data"
    }
   ],
   "source": [
    "# Crear una etiqueta con texto \"Resultado:\"\n",
    "label = widgets.Label(value=\"Resultado:\")\n",
    "\n",
    "# Mostrar la etiqueta\n",
    "display(label)"
   ]
  },
  {
   "cell_type": "markdown",
   "id": "8cd256f9-b4e0-48a0-bd9b-b94f6cb567cf",
   "metadata": {},
   "source": [
    "---\n",
    "\n",
    "- Puedes combinar diferentes widgets para crear interfaces interactivas más complejas.\n",
    "- Puedes usar la función `display()` para mostrar los widgets en tu notebook.\n",
    "- Puedes usar la función `observe()` para asociar eventos a los widgets, como cambiar el valor de una etiqueta cuando se modifica un slider."
   ]
  },
  {
   "cell_type": "markdown",
   "id": "1d46b89e-5404-49f4-933a-be08c1ed0f22",
   "metadata": {},
   "source": [
    "### <font color='purple'> Ejemplo: Widget para variar $x$ de la función $y(x) = 2x + 1$ </font>"
   ]
  },
  {
   "cell_type": "code",
   "execution_count": 2,
   "id": "56529c69-267e-4a68-9081-83f0e5b205d9",
   "metadata": {},
   "outputs": [],
   "source": [
    "import ipywidgets as widgets\n",
    "from IPython.display import display"
   ]
  },
  {
   "cell_type": "code",
   "execution_count": 6,
   "id": "01f72eb3-8063-4b5e-9753-91cfd1d3af02",
   "metadata": {},
   "outputs": [
    {
     "data": {
      "application/vnd.jupyter.widget-view+json": {
       "model_id": "d310c134ed8248c998ac3a047e513012",
       "version_major": 2,
       "version_minor": 0
      },
      "text/plain": [
       "FloatSlider(value=0.0, description='Valor de x:', max=10.0, min=-10.0, step=0.5)"
      ]
     },
     "metadata": {},
     "output_type": "display_data"
    },
    {
     "data": {
      "application/vnd.jupyter.widget-view+json": {
       "model_id": "26585a34e0e645a4a2673db3ac0fd99f",
       "version_major": 2,
       "version_minor": 0
      },
      "text/plain": [
       "Label(value='Función y(x) = 1.0')"
      ]
     },
     "metadata": {},
     "output_type": "display_data"
    }
   ],
   "source": [
    "# Definimos la función y(x) = 2x + 1\n",
    "def y(x):\n",
    "    return 2 * x + 1\n",
    "\n",
    "# Crear un deslizador para el valor de x\n",
    "x_slider = widgets.FloatSlider(value=0, min=-10, max=10, step=0.5, description='Valor de x:')\n",
    "y_label = widgets.Label(value=f'Función y(x) = {y(x_slider.value)}')\n",
    "\n",
    "# Función de actualización\n",
    "def update_y(change):\n",
    "    y_label.value = f'Función y(x) = {y(change[\"new\"])}'\n",
    "\n",
    "# Vincular el deslizador con la función de actualización\n",
    "x_slider.observe(update_y, names='value')\n",
    "\n",
    "# Mostrar los widgets\n",
    "display(x_slider, y_label)\n"
   ]
  },
  {
   "cell_type": "markdown",
   "id": "ad207651-6faa-4e33-baac-f1b76c13474b",
   "metadata": {},
   "source": [
    "#### `slider.observe`\n",
    "El método `observe` se utiliza para registrar una función que se llamará cada vez que el valor del deslizador cambie. \n",
    "Esto permite actualizar otros componentes de la interfaz de usuario o realizar \n",
    "cálculos basados en el nuevo valor del deslizador.\n",
    "\n",
    "#### `label.value`\n",
    "La propiedad `value` de un `widgets.Label` establece o actualiza el texto mostrado por la etiqueta. "
   ]
  },
  {
   "cell_type": "markdown",
   "id": "b1cb38d2-049a-4df7-a0fe-103b424d31d4",
   "metadata": {},
   "source": [
    "### <font color='purple'> Ejemplo: Widget para graficar la función $y(x) = 2x + 1$ </font>"
   ]
  },
  {
   "cell_type": "code",
   "execution_count": 1,
   "id": "516eae17-945e-4f41-96bb-63650ef06e91",
   "metadata": {},
   "outputs": [],
   "source": [
    "import numpy as np\n",
    "import matplotlib.pyplot as plt\n",
    "import ipywidgets as widgets\n",
    "from ipywidgets import interact\n",
    "from IPython.display import display"
   ]
  },
  {
   "cell_type": "code",
   "execution_count": 7,
   "id": "4df40466-6323-4893-ae99-7a06231c844d",
   "metadata": {},
   "outputs": [
    {
     "data": {
      "application/vnd.jupyter.widget-view+json": {
       "model_id": "a114fcb93b1345f79e739386e52c9272",
       "version_major": 2,
       "version_minor": 0
      },
      "text/plain": [
       "Label(value='')"
      ]
     },
     "metadata": {},
     "output_type": "display_data"
    },
    {
     "data": {
      "application/vnd.jupyter.widget-view+json": {
       "model_id": "7e7a291788204d49a229281384ed644b",
       "version_major": 2,
       "version_minor": 0
      },
      "text/plain": [
       "interactive(children=(FloatSlider(value=0.0, description='Valor de x:', max=10.0, min=-10.0), Output()), _dom_…"
      ]
     },
     "metadata": {},
     "output_type": "display_data"
    },
    {
     "data": {
      "text/plain": [
       "<function __main__.plot_function(x)>"
      ]
     },
     "execution_count": 7,
     "metadata": {},
     "output_type": "execute_result"
    }
   ],
   "source": [
    "# Función y(x) = 2x + 1\n",
    "def y(x):\n",
    "    return 2 * x + 1\n",
    "\n",
    "# Creamos una etiqueta (y_label) para mostrar el valor de y(x)\n",
    "y_label = widgets.Label()\n",
    "\n",
    "# Función para actualizar la gráfica y la etiqueta\n",
    "def plot_function(x):\n",
    "    fig, ax = plt.subplots(figsize=(6, 3))\n",
    "    x_vals = np.linspace(-10, 10, 400)\n",
    "    y_vals = y(x_vals)\n",
    "    ax.plot(x_vals, y_vals, label='y = 2x + 1')\n",
    "    ax.scatter([x], [y(x)], color='red')  # Punto actual\n",
    "    ax.legend()\n",
    "    ax.grid(True)\n",
    "    plt.xlabel('x')\n",
    "    plt.ylabel('y')\n",
    "    plt.title('Gráfica de y(x) = 2x + 1')\n",
    "    plt.show()\n",
    "    # Actualizar la etiqueta\n",
    "    y_label.value = f'y = {y(x)}'\n",
    "\n",
    "# Creamos un deslizador (x_slider) para ajustar x\n",
    "x_slider = widgets.FloatSlider(value=0, min=-10, max=10, step=0.1, description='Valor de x:')\n",
    "\n",
    "# Mostrar la etiqueta\n",
    "display(y_label)\n",
    "\n",
    "# Usar interact para crear el deslizador y vincularlo a plot_function\n",
    "interact(plot_function, x=x_slider)"
   ]
  },
  {
   "cell_type": "markdown",
   "id": "fac756a1-2e30-4302-ac3b-4b4a3288c6a1",
   "metadata": {},
   "source": [
    "### <font color='purple'> Ejemplo: Widget para cambiar frecuencia y graficar una función senoidal </font>"
   ]
  },
  {
   "cell_type": "code",
   "execution_count": 11,
   "id": "d9f5f5f3-038a-4a3c-b833-d0ac90718cc3",
   "metadata": {},
   "outputs": [
    {
     "data": {
      "application/vnd.jupyter.widget-view+json": {
       "model_id": "70faf45127a944349dcd404100dba63e",
       "version_major": 2,
       "version_minor": 0
      },
      "text/plain": [
       "interactive(children=(FloatSlider(value=1.0, description='frecuencia', max=4.0, min=0.1), Output()), _dom_clas…"
      ]
     },
     "metadata": {},
     "output_type": "display_data"
    },
    {
     "data": {
      "text/plain": [
       "<function __main__.plot_sin(frecuencia)>"
      ]
     },
     "execution_count": 11,
     "metadata": {},
     "output_type": "execute_result"
    }
   ],
   "source": [
    "import numpy as np\n",
    "import matplotlib.pyplot as plt\n",
    "import ipywidgets as widgets\n",
    "from ipywidgets import interact\n",
    "\n",
    "# Función para graficar\n",
    "def plot_sin(frecuencia):\n",
    "    x = np.linspace(0, 10, 1000)\n",
    "    y = np.sin(2 * np.pi * frecuencia * x)\n",
    "    # Creamos el plot\n",
    "    plt.plot(x, y)\n",
    "    plt.title(f'Frecuencia = {frecuencia} Hz')\n",
    "    plt.xlabel('Time [s]')\n",
    "    plt.ylabel('Amplitud')\n",
    "    plt.show()\n",
    "\n",
    "# Widget interactivo\n",
    "f_slider = widgets.FloatSlider(value=1.0, min=0.1, max=4, step=0.1, orientation='horizontal')\n",
    "\n",
    "# Widget interactivo\n",
    "interact(plot_sin, frecuencia= f_slider)"
   ]
  },
  {
   "cell_type": "code",
   "execution_count": 12,
   "id": "e9f8a1f4-830d-4128-939d-9d1433f34db2",
   "metadata": {},
   "outputs": [
    {
     "data": {
      "application/vnd.jupyter.widget-view+json": {
       "model_id": "6620b6827d1647f09cdd6d911b7c906b",
       "version_major": 2,
       "version_minor": 0
      },
      "text/plain": [
       "interactive(children=(FloatSlider(value=1.0, description='frequency', max=10.0, min=0.1), FloatSlider(value=1.…"
      ]
     },
     "execution_count": 12,
     "metadata": {},
     "output_type": "execute_result"
    }
   ],
   "source": [
    "import numpy as np\n",
    "import matplotlib.pyplot as plt\n",
    "import ipywidgets as widgets\n",
    "from ipywidgets import interactive\n",
    "\n",
    "# Función para graficar\n",
    "def plot_sin(frequency, amplitude):\n",
    "    x = np.linspace(0, 10, 1000)\n",
    "    y = amplitude * np.sin(2 * np.pi * frequency * x)\n",
    "#----------------------------------------------------\n",
    "    plt.figure(figsize=(8, 4))\n",
    "    plt.plot(x, y)\n",
    "    plt.title(f'Sin wave with frequency = {frequency} Hz and amplitude = {amplitude}')\n",
    "    plt.xlabel('Time [s]')\n",
    "    plt.ylabel('Amplitude')\n",
    "    plt.grid(True)\n",
    "    plt.show()\n",
    "\n",
    "# Widgets interactivos\n",
    "frequency_slider = widgets.FloatSlider(value=1.0, min=0.1, max=10.0, step=0.1)\n",
    "amplitude_slider = widgets.FloatSlider(value=1.0, min=0.1, max=5.0, step=0.1)\n",
    "\n",
    "# Crear widget interactivo\n",
    "interactive_plot = interactive(plot_sin, frequency=frequency_slider, amplitude=amplitude_slider)\n",
    "\n",
    "# Mostrar controles y gráfico\n",
    "interactive_plot\n"
   ]
  },
  {
   "cell_type": "code",
   "execution_count": 14,
   "id": "70af12e3-77a1-4b82-8959-7bea0591a9b9",
   "metadata": {},
   "outputs": [
    {
     "data": {
      "application/vnd.jupyter.widget-view+json": {
       "model_id": "09b663355ffe4e9daec65ae1cc21cd47",
       "version_major": 2,
       "version_minor": 0
      },
      "text/plain": [
       "interactive(children=(FloatSlider(value=0.0, description='x:', max=5.0, min=-5.0), FloatSlider(value=0.0, desc…"
      ]
     },
     "metadata": {},
     "output_type": "display_data"
    },
    {
     "data": {
      "application/vnd.jupyter.widget-view+json": {
       "model_id": "41e9ba6008e0475580c1d0071f854e5c",
       "version_major": 2,
       "version_minor": 0
      },
      "text/plain": [
       "HBox(children=(VBox(children=(FloatSlider(value=0.0, description='x:', max=5.0, min=-5.0), FloatSlider(value=0…"
      ]
     },
     "metadata": {},
     "output_type": "display_data"
    }
   ],
   "source": [
    "# Crear una función z = f(x, y)\n",
    "def f(x, y):\n",
    "    return np.sin(np.sqrt(x**2 + y**2))\n",
    "\n",
    "# Crear los widgets para los parámetros\n",
    "x_slider = widgets.FloatSlider(value=0, min=-5, max=5, step=0.1, description='x:')\n",
    "y_slider = widgets.FloatSlider(value=0, min=-5, max=5, step=0.1, description='y:')\n",
    "level_slider = widgets.IntSlider(value=10, min=1, max=20, step=1, description='Levels:')\n",
    "\n",
    "# Crear un contenedor para los widgets\n",
    "controls = widgets.VBox([x_slider, y_slider, level_slider])\n",
    "output = widgets.Output()\n",
    "\n",
    "# Función para actualizar la gráfica de contorno\n",
    "def update_contour(x, y, levels):\n",
    "    with output:\n",
    "        output.clear_output()\n",
    "        fig, ax = plt.subplots()\n",
    "        x_vals = np.linspace(-5, 5, 100)\n",
    "        y_vals = np.linspace(-5, 5, 100)\n",
    "        X, Y = np.meshgrid(x_vals, y_vals)\n",
    "        Z = f(X, Y)\n",
    "        contour = ax.contourf(X, Y, Z, levels=levels, cmap='viridis')\n",
    "        ax.scatter([x], [y], color='red')  # Punto actual\n",
    "        plt.colorbar(contour)\n",
    "        plt.xlabel('x')\n",
    "        plt.ylabel('y')\n",
    "        plt.title('Gráfica de Contorno de z = f(x, y)')\n",
    "        plt.show()\n",
    "\n",
    "# Usar interact para vincular los widgets con la función de actualización\n",
    "interact(update_contour, x=x_slider, y=y_slider, levels=level_slider);\n",
    "\n",
    "# Mostrar los widgets y la salida de la gráfica\n",
    "ui = widgets.HBox([controls, output])\n",
    "display(ui)\n"
   ]
  }
 ],
 "metadata": {
  "kernelspec": {
   "display_name": "Python 3 (ipykernel)",
   "language": "python",
   "name": "python3"
  },
  "language_info": {
   "codemirror_mode": {
    "name": "ipython",
    "version": 3
   },
   "file_extension": ".py",
   "mimetype": "text/x-python",
   "name": "python",
   "nbconvert_exporter": "python",
   "pygments_lexer": "ipython3",
   "version": "3.10.12"
  }
 },
 "nbformat": 4,
 "nbformat_minor": 5
}
